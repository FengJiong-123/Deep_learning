{
  "nbformat": 4,
  "nbformat_minor": 0,
  "metadata": {
    "colab": {
      "name": "CS7643.ipynb",
      "provenance": [],
      "collapsed_sections": [],
      "machine_shape": "hm"
    },
    "kernelspec": {
      "name": "python3",
      "display_name": "Python 3"
    },
    "language_info": {
      "name": "python"
    },
    "accelerator": "GPU"
  },
  "cells": [
    {
      "cell_type": "markdown",
      "metadata": {
        "id": "wNpZe0-QqzF1"
      },
      "source": [
        "\n",
        "# Libraries\n",
        "\n"
      ]
    },
    {
      "cell_type": "code",
      "metadata": {
        "id": "2ZKL6nKYq0fp"
      },
      "source": [
        "import numpy as np\n",
        "import pandas as pd\n",
        "import os,cv2\n",
        "import numpy as np\n",
        "import matplotlib.pyplot as plt\n",
        "import matplotlib.image as mpimg\n",
        "from pylab import rcParams\n",
        "from google.colab.patches import cv2_imshow\n",
        "rcParams['figure.figsize'] = 20, 10\n",
        "from sklearn.utils import shuffle\n",
        "from sklearn.model_selection import train_test_split\n",
        "import keras\n",
        "from keras.utils import np_utils\n",
        "from keras.models import Sequential\n",
        "from keras.layers import Dense , Activation , Dropout ,Flatten\n",
        "from keras.layers.convolutional import Conv2D\n",
        "from keras.layers.convolutional import MaxPooling2D\n",
        "from keras.metrics import categorical_accuracy\n",
        "from keras.models import model_from_json\n",
        "from keras.callbacks import ModelCheckpoint\n",
        "from keras.optimizers import *\n",
        "from keras.layers.normalization import BatchNormalization\n",
        "from keras.wrappers.scikit_learn import KerasClassifier\n",
        "from sklearn.model_selection import cross_val_score, cross_val_predict\n",
        "from sklearn.datasets import make_classification\n",
        "from keras.callbacks import EarlyStopping, ModelCheckpoint, ReduceLROnPlateau\n",
        "from sklearn.metrics import roc_curve,auc\n",
        "from itertools import cycle"
      ],
      "execution_count": 159,
      "outputs": []
    },
    {
      "cell_type": "code",
      "metadata": {
        "colab": {
          "base_uri": "https://localhost:8080/"
        },
        "id": "-M5k9JFMhq6G",
        "outputId": "f9bed6bf-06c7-40a8-9eeb-6b6282fe5f82"
      },
      "source": [
        "import os\n",
        "print(os.listdir(\"./drive/MyDrive/CK+48\"))"
      ],
      "execution_count": 137,
      "outputs": [
        {
          "output_type": "stream",
          "text": [
            "['happy', 'contempt', 'fear', 'surprise', 'sadness', 'anger', 'disgust']\n"
          ],
          "name": "stdout"
        }
      ]
    },
    {
      "cell_type": "markdown",
      "metadata": {
        "id": "4QtapJhSreCF"
      },
      "source": [
        "# Extracting images from directory"
      ]
    },
    {
      "cell_type": "code",
      "metadata": {
        "id": "z7rBCVZ0rgjq",
        "colab": {
          "base_uri": "https://localhost:8080/"
        },
        "outputId": "88372ed9-2ac2-46d1-dd91-b72aba5dc231"
      },
      "source": [
        "data_path = './drive/MyDrive/CK+48'\n",
        "data_dir_list = os.listdir(data_path)\n",
        "\n",
        "img_data_list=[]\n",
        "\n",
        "for dataset in data_dir_list:\n",
        "    img_list=os.listdir(data_path+'/'+ dataset)\n",
        "    print ('Loaded the images of dataset-'+'{}\\n'.format(dataset))\n",
        "    for img in img_list:\n",
        "        input_img=cv2.imread(data_path + '/'+ dataset + '/'+ img )\n",
        "        #input_img=cv2.cvtColor(input_img, cv2.COLOR_BGR2GRAY)\n",
        "        input_img_resize=cv2.resize(input_img,(48,48))\n",
        "        img_data_list.append(input_img_resize)\n",
        "        \n",
        "img_data = np.array(img_data_list)\n",
        "img_data = img_data.astype('float32')\n",
        "\n",
        "# Convert the picture to double to convey informtaion\n",
        "img_data = img_data/255\n",
        "img_data.shape"
      ],
      "execution_count": 142,
      "outputs": [
        {
          "output_type": "stream",
          "text": [
            "Loaded the images of dataset-happy\n",
            "\n",
            "Loaded the images of dataset-contempt\n",
            "\n",
            "Loaded the images of dataset-fear\n",
            "\n",
            "Loaded the images of dataset-surprise\n",
            "\n",
            "Loaded the images of dataset-sadness\n",
            "\n",
            "Loaded the images of dataset-anger\n",
            "\n",
            "Loaded the images of dataset-disgust\n",
            "\n"
          ],
          "name": "stdout"
        },
        {
          "output_type": "execute_result",
          "data": {
            "text/plain": [
              "(981, 48, 48, 3)"
            ]
          },
          "metadata": {
            "tags": []
          },
          "execution_count": 142
        }
      ]
    },
    {
      "cell_type": "markdown",
      "metadata": {
        "id": "Qn4ixExQ0kE3"
      },
      "source": [
        "## Show examples of the import picture\n"
      ]
    },
    {
      "cell_type": "markdown",
      "metadata": {
        "id": "hG_2_Jbu20UK"
      },
      "source": [
        "## Show Examples of the Picture(Anger)"
      ]
    },
    {
      "cell_type": "code",
      "metadata": {
        "colab": {
          "base_uri": "https://localhost:8080/",
          "height": 147
        },
        "id": "bWJNbyT-1oY2",
        "outputId": "509546c6-4137-4b80-d4a9-1ab62d834a69"
      },
      "source": [
        "cv2_imshow(img_data_list[0])\n",
        "print(img_data_list[0].shape)\n",
        "print(img_data[0].shape)\n",
        "cv2_imshow(img_data[0]*255)"
      ],
      "execution_count": 113,
      "outputs": [
        {
          "output_type": "display_data",
          "data": {
            "image/png": "[encoded data removed]",
            "text/plain": [
              "<PIL.Image.Image image mode=RGB size=48x48 at 0x7FCBC46D5850>"
            ]
          },
          "metadata": {
            "tags": []
          }
        },
        {
          "output_type": "stream",
          "text": [
            "(48, 48, 3)\n",
            "(48, 48, 3)\n"
          ],
          "name": "stdout"
        },
        {
          "output_type": "display_data",
          "data": {
            "image/png": "[encoded data removed]",
            "text/plain": [
              "<PIL.Image.Image image mode=RGB size=48x48 at 0x7FCBC4677550>"
            ]
          },
          "metadata": {
            "tags": []
          }
        }
      ]
    },
    {
      "cell_type": "markdown",
      "metadata": {
        "id": "neck5Wc9rk2L"
      },
      "source": [
        "# Putting label in data¶\n"
      ]
    },
    {
      "cell_type": "code",
      "metadata": {
        "id": "ON7uMyg0rl8M"
      },
      "source": [
        "num_classes = 7\n",
        "\n",
        "num_of_samples = img_data.shape[0]\n",
        "labels = np.ones((num_of_samples,),dtype='int64')\n",
        "\n",
        "labels[0:134]=0 #135\n",
        "labels[135:188]=1 #54\n",
        "labels[189:365]=2 #177\n",
        "labels[366:440]=3 #75\n",
        "labels[441:647]=4 #207\n",
        "labels[648:731]=5 #84\n",
        "labels[732:980]=6 #249\n",
        "\n",
        "index_to_labels = ['anger','contempt','disgust','fear','happy','sadness','surprise']\n",
        "\n",
        "def getLabelByIndex(i):\n",
        "    return index_to_labels[i]"
      ],
      "execution_count": 147,
      "outputs": []
    },
    {
      "cell_type": "markdown",
      "metadata": {
        "id": "_-DTWgDTro9S"
      },
      "source": [
        "# Dataset Overview"
      ]
    },
    {
      "cell_type": "code",
      "metadata": {
        "colab": {
          "base_uri": "https://localhost:8080/",
          "height": 633
        },
        "id": "rE53rDzrwIX-",
        "outputId": "e411d9b5-6d39-4065-d6cb-f2389beece71"
      },
      "source": [
        "print(X_test.shape)\n",
        "for i in range(10):\n",
        "  cv2_imshow(img_data[i] * 255)\n",
        "\n",
        "print(y_test)\n"
      ],
      "execution_count": 226,
      "outputs": [
        {
          "output_type": "stream",
          "text": [
            "(393, 48, 48, 3)\n"
          ],
          "name": "stdout"
        },
        {
          "output_type": "display_data",
          "data": {
            "image/png": "[encoded data removed]",
            "text/plain": [
              "<PIL.Image.Image image mode=RGB size=48x48 at 0x7FCBC99E7990>"
            ]
          },
          "metadata": {
            "tags": []
          }
        },
        {
          "output_type": "display_data",
          "data": {
            "image/png": "[encoded data removed]",
            "text/plain": [
              "<PIL.Image.Image image mode=RGB size=48x48 at 0x7FCBC5C7AAD0>"
            ]
          },
          "metadata": {
            "tags": []
          }
        },
        {
          "output_type": "display_data",
          "data": {
            "image/png": "[encoded data removed]",
            "text/plain": [
              "<PIL.Image.Image image mode=RGB size=48x48 at 0x7FCBC99E7CD0>"
            ]
          },
          "metadata": {
            "tags": []
          }
        },
        {
          "output_type": "display_data",
          "data": {
            "image/png": "[encoded data removed]",
            "text/plain": [
              "<PIL.Image.Image image mode=RGB size=48x48 at 0x7FCBC99E7990>"
            ]
          },
          "metadata": {
            "tags": []
          }
        },
        {
          "output_type": "display_data",
          "data": {
            "image/png": "[encoded data removed]",
            "text/plain": [
              "<PIL.Image.Image image mode=RGB size=48x48 at 0x7FCBBD7F5490>"
            ]
          },
          "metadata": {
            "tags": []
          }
        },
        {
          "output_type": "display_data",
          "data": {
            "image/png": "[encoded data removed]",
            "text/plain": [
              "<PIL.Image.Image image mode=RGB size=48x48 at 0x7FCBC99E7AD0>"
            ]
          },
          "metadata": {
            "tags": []
          }
        },
        {
          "output_type": "display_data",
          "data": {
            "image/png": "[encoded data removed]",
            "text/plain": [
              "<PIL.Image.Image image mode=RGB size=48x48 at 0x7FCBBD7F5E10>"
            ]
          },
          "metadata": {
            "tags": []
          }
        },
        {
          "output_type": "display_data",
          "data": {
            "image/png": "[encoded data removed]",
            "text/plain": [
              "<PIL.Image.Image image mode=RGB size=48x48 at 0x7FCBC99E77D0>"
            ]
          },
          "metadata": {
            "tags": []
          }
        },
        {
          "output_type": "display_data",
          "data": {
            "image/png": "[encoded data removed]",
            "text/plain": [
              "<PIL.Image.Image image mode=RGB size=48x48 at 0x7FCBBD7F5490>"
            ]
          },
          "metadata": {
            "tags": []
          }
        },
        {
          "output_type": "display_data",
          "data": {
            "image/png": "[encoded data removed]",
            "text/plain": [
              "<PIL.Image.Image image mode=RGB size=48x48 at 0x7FCBC99E7CD0>"
            ]
          },
          "metadata": {
            "tags": []
          }
        },
        {
          "output_type": "stream",
          "text": [
            "[[1. 0. 0. ... 0. 0. 0.]\n",
            " [0. 0. 1. ... 0. 0. 0.]\n",
            " [0. 0. 0. ... 0. 0. 1.]\n",
            " ...\n",
            " [0. 0. 0. ... 0. 0. 0.]\n",
            " [0. 0. 0. ... 0. 0. 0.]\n",
            " [0. 0. 0. ... 1. 0. 0.]]\n"
          ],
          "name": "stdout"
        }
      ]
    },
    {
      "cell_type": "markdown",
      "metadata": {
        "id": "LQw0pnSnr863"
      },
      "source": [
        "# Creating Model\n"
      ]
    },
    {
      "cell_type": "code",
      "metadata": {
        "id": "LzJr_yPgr-1X"
      },
      "source": [
        "def create_model(learning_rate):\n",
        "    input_shape=(48,48,3)\n",
        "\n",
        "    model = Sequential()\n",
        "    model.add(Conv2D(6, (5, 5), input_shape=input_shape, padding='same', activation = 'relu'))\n",
        "    model.add(MaxPooling2D(pool_size=(2, 2)))\n",
        "\n",
        "    model.add(Conv2D(16, (5, 5), padding='same', activation = 'relu'))\n",
        "    model.add(Activation('relu'))\n",
        "    model.add(MaxPooling2D(pool_size=(2, 2)))\n",
        "\n",
        "    model.add(Conv2D(64, (3, 3), activation = 'relu'))\n",
        "    model.add(MaxPooling2D(pool_size=(2, 2)))\n",
        "\n",
        "    model.add(Flatten())\n",
        "    model.add(Dense(128, activation = 'relu'))\n",
        "    model.add(Dropout(0.5))\n",
        "    model.add(Dense(7, activation = 'softmax'))\n",
        "\n",
        "    model.compile(loss='categorical_crossentropy', metrics=['accuracy'],optimizer= keras.optimizers.SGD(lr = learning_rate))\n",
        "    \n",
        "    return model"
      ],
      "execution_count": 247,
      "outputs": []
    },
    {
      "cell_type": "markdown",
      "metadata": {
        "id": "XAxa_SuRsQNL"
      },
      "source": [
        "\n",
        "# Model Summary"
      ]
    },
    {
      "cell_type": "code",
      "metadata": {
        "id": "xQ5weE5msdQQ",
        "colab": {
          "base_uri": "https://localhost:8080/"
        },
        "outputId": "44556199-3ca9-4e58-9a20-1e59ab172574"
      },
      "source": [
        "learning_rate = 0.01\n",
        "\n",
        "model_custom = create_model(learning_rate)\n",
        "model_custom.summary()"
      ],
      "execution_count": 248,
      "outputs": [
        {
          "output_type": "stream",
          "text": [
            "Model: \"sequential_148\"\n",
            "_________________________________________________________________\n",
            "Layer (type)                 Output Shape              Param #   \n",
            "=================================================================\n",
            "conv2d_444 (Conv2D)          (None, 48, 48, 6)         456       \n",
            "_________________________________________________________________\n",
            "max_pooling2d_444 (MaxPoolin (None, 24, 24, 6)         0         \n",
            "_________________________________________________________________\n",
            "conv2d_445 (Conv2D)          (None, 24, 24, 16)        2416      \n",
            "_________________________________________________________________\n",
            "activation_148 (Activation)  (None, 24, 24, 16)        0         \n",
            "_________________________________________________________________\n",
            "max_pooling2d_445 (MaxPoolin (None, 12, 12, 16)        0         \n",
            "_________________________________________________________________\n",
            "conv2d_446 (Conv2D)          (None, 10, 10, 64)        9280      \n",
            "_________________________________________________________________\n",
            "max_pooling2d_446 (MaxPoolin (None, 5, 5, 64)          0         \n",
            "_________________________________________________________________\n",
            "flatten_148 (Flatten)        (None, 1600)              0         \n",
            "_________________________________________________________________\n",
            "dense_296 (Dense)            (None, 128)               204928    \n",
            "_________________________________________________________________\n",
            "dropout_148 (Dropout)        (None, 128)               0         \n",
            "_________________________________________________________________\n",
            "dense_297 (Dense)            (None, 7)                 903       \n",
            "=================================================================\n",
            "Total params: 217,983\n",
            "Trainable params: 217,983\n",
            "Non-trainable params: 0\n",
            "_________________________________________________________________\n"
          ],
          "name": "stdout"
        }
      ]
    },
    {
      "cell_type": "markdown",
      "metadata": {
        "id": "R2OziMnRsbOz"
      },
      "source": [
        "# Model Visualization "
      ]
    },
    {
      "cell_type": "code",
      "metadata": {
        "colab": {
          "base_uri": "https://localhost:8080/",
          "height": 1000
        },
        "id": "wEamr24YimSm",
        "outputId": "8908f30b-046f-402d-f181-467860d07f65"
      },
      "source": [
        "from keras.utils import plot_model\n",
        "plot_model(model_custom, to_file='model.png')"
      ],
      "execution_count": 249,
      "outputs": [
        {
          "output_type": "execute_result",
          "data": {
            "image/png": "[encoded data removed]",
            "text/plain": [
              "<IPython.core.display.Image object>"
            ]
          },
          "metadata": {
            "tags": []
          },
          "execution_count": 249
        }
      ]
    },
    {
      "cell_type": "markdown",
      "metadata": {
        "id": "7vpzu8QRi5GA"
      },
      "source": [
        "# Training Model"
      ]
    },
    {
      "cell_type": "code",
      "metadata": {
        "id": "vFRCWoDXi7Ta"
      },
      "source": [
        "batch_size = 3\n",
        "EPOCHS = 100\n",
        "if not os.path.exists(\"model\"):\n",
        "  os.makedirs(\"model\")\n"
      ],
      "execution_count": 245,
      "outputs": []
    },
    {
      "cell_type": "code",
      "metadata": {
        "id": "xfd9KmmES-r8"
      },
      "source": [
        "Y = np_utils.to_categorical(labels, num_classes)\n",
        "\n",
        "x,y = shuffle(img_data,Y, random_state=2)\n",
        "X_train, X_test, y_train, y_test = train_test_split(x, y, test_size=0.4, random_state=2)\n",
        "x_test=X_test"
      ],
      "execution_count": null,
      "outputs": []
    },
    {
      "cell_type": "code",
      "metadata": {
        "colab": {
          "base_uri": "https://localhost:8080/",
          "height": 1000
        },
        "id": "UoTsWIpMi9vH",
        "outputId": "da55c052-9425-441d-83be-5fb0a5a3157b"
      },
      "source": [
        "result = []\n",
        "scores_loss = []\n",
        "scores_acc = []\n",
        "\n",
        "file_path = \"./models/trained_model.hdf5\"\n",
        "checkpoint = ModelCheckpoint(file_path, monitor='loss', verbose=0, save_best_only=True, mode='min')\n",
        "early = EarlyStopping(monitor=\"loss\", mode=\"min\", patience=8)\n",
        "\n",
        "callbacks_list = [checkpoint, early]\n",
        "\n",
        "model = create_model()\n",
        "#hist = model.fit_generator(aug.flow(X_Train_, Y_Train), epochs=EPOCHS,validation_data=(X_Test_, Y_Test), callbacks=callbacks_list, verbose=0)\n",
        "hist = model.fit(X_Train_, Y_Train, batch_size = batch_size, epochs= EPOCHS, validation_data=(X_Test_, Y_Test), verbose=1)    \n",
        "model.load_weights(file_path)\n",
        "result.append(model(X_Test_))\n",
        "score = model.evaluate(X_Test_,Y_Test, verbose=0)\n",
        "print(score)\n",
        "scores_loss.append(score[0])\n",
        "scores_acc.append(score[1])\n"
      ],
      "execution_count": 246,
      "outputs": [
        {
          "output_type": "stream",
          "text": [
            "Epoch 1/100\n",
            "262/262 [==============================] - 2s 5ms/step - loss: 1.9179 - accuracy: 0.2007 - val_loss: 1.8811 - val_accuracy: 0.2081\n",
            "Epoch 2/100\n",
            "262/262 [==============================] - 1s 4ms/step - loss: 1.8699 - accuracy: 0.2739 - val_loss: 1.8654 - val_accuracy: 0.2081\n",
            "Epoch 3/100\n",
            "262/262 [==============================] - 1s 4ms/step - loss: 1.8312 - accuracy: 0.2826 - val_loss: 1.8561 - val_accuracy: 0.2081\n",
            "Epoch 4/100\n",
            "262/262 [==============================] - 1s 4ms/step - loss: 1.8400 - accuracy: 0.2532 - val_loss: 1.8553 - val_accuracy: 0.2081\n",
            "Epoch 5/100\n",
            "262/262 [==============================] - 1s 4ms/step - loss: 1.8070 - accuracy: 0.2906 - val_loss: 1.8506 - val_accuracy: 0.2081\n",
            "Epoch 6/100\n",
            "262/262 [==============================] - 1s 4ms/step - loss: 1.8346 - accuracy: 0.2705 - val_loss: 1.8440 - val_accuracy: 0.2081\n",
            "Epoch 7/100\n",
            "262/262 [==============================] - 1s 4ms/step - loss: 1.8115 - accuracy: 0.3176 - val_loss: 1.8370 - val_accuracy: 0.2081\n",
            "Epoch 8/100\n",
            "262/262 [==============================] - 1s 4ms/step - loss: 1.8027 - accuracy: 0.2797 - val_loss: 1.8281 - val_accuracy: 0.2081\n",
            "Epoch 9/100\n",
            "262/262 [==============================] - 1s 4ms/step - loss: 1.7971 - accuracy: 0.2978 - val_loss: 1.8190 - val_accuracy: 0.2487\n",
            "Epoch 10/100\n",
            "262/262 [==============================] - 1s 4ms/step - loss: 1.8047 - accuracy: 0.3143 - val_loss: 1.8005 - val_accuracy: 0.3350\n",
            "Epoch 11/100\n",
            "262/262 [==============================] - 1s 4ms/step - loss: 1.7905 - accuracy: 0.3247 - val_loss: 1.7780 - val_accuracy: 0.3452\n",
            "Epoch 12/100\n",
            "262/262 [==============================] - 1s 4ms/step - loss: 1.7458 - accuracy: 0.3466 - val_loss: 1.7591 - val_accuracy: 0.3604\n",
            "Epoch 13/100\n",
            "262/262 [==============================] - 1s 4ms/step - loss: 1.6970 - accuracy: 0.4135 - val_loss: 1.7229 - val_accuracy: 0.4416\n",
            "Epoch 14/100\n",
            "262/262 [==============================] - 1s 4ms/step - loss: 1.7195 - accuracy: 0.3901 - val_loss: 1.6646 - val_accuracy: 0.4619\n",
            "Epoch 15/100\n",
            "262/262 [==============================] - 1s 4ms/step - loss: 1.6375 - accuracy: 0.4479 - val_loss: 1.5952 - val_accuracy: 0.5076\n",
            "Epoch 16/100\n",
            "262/262 [==============================] - 1s 4ms/step - loss: 1.5637 - accuracy: 0.4618 - val_loss: 1.5101 - val_accuracy: 0.4873\n",
            "Epoch 17/100\n",
            "262/262 [==============================] - 1s 4ms/step - loss: 1.4887 - accuracy: 0.4777 - val_loss: 1.4539 - val_accuracy: 0.5431\n",
            "Epoch 18/100\n",
            "262/262 [==============================] - 1s 4ms/step - loss: 1.4371 - accuracy: 0.5165 - val_loss: 1.3953 - val_accuracy: 0.4518\n",
            "Epoch 19/100\n",
            "262/262 [==============================] - 1s 4ms/step - loss: 1.4744 - accuracy: 0.4462 - val_loss: 1.3047 - val_accuracy: 0.5736\n",
            "Epoch 20/100\n",
            "262/262 [==============================] - 1s 4ms/step - loss: 1.3927 - accuracy: 0.4845 - val_loss: 1.2942 - val_accuracy: 0.5736\n",
            "Epoch 21/100\n",
            "262/262 [==============================] - 1s 4ms/step - loss: 1.2891 - accuracy: 0.5508 - val_loss: 1.2251 - val_accuracy: 0.5838\n",
            "Epoch 22/100\n",
            "262/262 [==============================] - 1s 4ms/step - loss: 1.2391 - accuracy: 0.5583 - val_loss: 1.2159 - val_accuracy: 0.5939\n",
            "Epoch 23/100\n",
            "262/262 [==============================] - 1s 4ms/step - loss: 1.1969 - accuracy: 0.5832 - val_loss: 1.1623 - val_accuracy: 0.6091\n",
            "Epoch 24/100\n",
            "262/262 [==============================] - 1s 4ms/step - loss: 1.2143 - accuracy: 0.5619 - val_loss: 1.1034 - val_accuracy: 0.6345\n",
            "Epoch 25/100\n",
            "262/262 [==============================] - 1s 4ms/step - loss: 1.2439 - accuracy: 0.5629 - val_loss: 1.0915 - val_accuracy: 0.5990\n",
            "Epoch 26/100\n",
            "262/262 [==============================] - 1s 4ms/step - loss: 1.1859 - accuracy: 0.5764 - val_loss: 1.1040 - val_accuracy: 0.5939\n",
            "Epoch 27/100\n",
            "262/262 [==============================] - 1s 4ms/step - loss: 1.1206 - accuracy: 0.5771 - val_loss: 1.0343 - val_accuracy: 0.6193\n",
            "Epoch 28/100\n",
            "262/262 [==============================] - 1s 4ms/step - loss: 1.1210 - accuracy: 0.6000 - val_loss: 1.0491 - val_accuracy: 0.5939\n",
            "Epoch 29/100\n",
            "262/262 [==============================] - 1s 4ms/step - loss: 1.0725 - accuracy: 0.5953 - val_loss: 1.0728 - val_accuracy: 0.6193\n",
            "Epoch 30/100\n",
            "262/262 [==============================] - 1s 4ms/step - loss: 1.0967 - accuracy: 0.5869 - val_loss: 0.9611 - val_accuracy: 0.6091\n",
            "Epoch 31/100\n",
            "262/262 [==============================] - 1s 4ms/step - loss: 1.0247 - accuracy: 0.5954 - val_loss: 0.9823 - val_accuracy: 0.5939\n",
            "Epoch 32/100\n",
            "262/262 [==============================] - 1s 4ms/step - loss: 0.9729 - accuracy: 0.6304 - val_loss: 0.9635 - val_accuracy: 0.6244\n",
            "Epoch 33/100\n",
            "262/262 [==============================] - 1s 4ms/step - loss: 0.9664 - accuracy: 0.6623 - val_loss: 0.9382 - val_accuracy: 0.6142\n",
            "Epoch 34/100\n",
            "262/262 [==============================] - 1s 4ms/step - loss: 1.0074 - accuracy: 0.6276 - val_loss: 0.9856 - val_accuracy: 0.6091\n",
            "Epoch 35/100\n",
            "262/262 [==============================] - 1s 4ms/step - loss: 0.9715 - accuracy: 0.6369 - val_loss: 0.9052 - val_accuracy: 0.6396\n",
            "Epoch 36/100\n",
            "262/262 [==============================] - 1s 4ms/step - loss: 0.9561 - accuracy: 0.6060 - val_loss: 0.8771 - val_accuracy: 0.6497\n",
            "Epoch 37/100\n",
            "262/262 [==============================] - 1s 4ms/step - loss: 0.9142 - accuracy: 0.6718 - val_loss: 0.8909 - val_accuracy: 0.6142\n",
            "Epoch 38/100\n",
            "262/262 [==============================] - 1s 4ms/step - loss: 0.9037 - accuracy: 0.6476 - val_loss: 0.8993 - val_accuracy: 0.6345\n",
            "Epoch 39/100\n",
            "262/262 [==============================] - 1s 4ms/step - loss: 0.9197 - accuracy: 0.6237 - val_loss: 0.9118 - val_accuracy: 0.6599\n",
            "Epoch 40/100\n",
            "262/262 [==============================] - 1s 4ms/step - loss: 0.9016 - accuracy: 0.6656 - val_loss: 0.8743 - val_accuracy: 0.6447\n",
            "Epoch 41/100\n",
            "262/262 [==============================] - 1s 4ms/step - loss: 0.8472 - accuracy: 0.6932 - val_loss: 0.8571 - val_accuracy: 0.6396\n",
            "Epoch 42/100\n",
            "262/262 [==============================] - 1s 4ms/step - loss: 0.8607 - accuracy: 0.6798 - val_loss: 0.8330 - val_accuracy: 0.6701\n",
            "Epoch 43/100\n",
            "262/262 [==============================] - 1s 4ms/step - loss: 0.7836 - accuracy: 0.6814 - val_loss: 0.8368 - val_accuracy: 0.6751\n",
            "Epoch 44/100\n",
            "262/262 [==============================] - 1s 4ms/step - loss: 0.8336 - accuracy: 0.6584 - val_loss: 0.8333 - val_accuracy: 0.6345\n",
            "Epoch 45/100\n",
            "262/262 [==============================] - 1s 4ms/step - loss: 0.7391 - accuracy: 0.7188 - val_loss: 0.9316 - val_accuracy: 0.5584\n",
            "Epoch 46/100\n",
            "262/262 [==============================] - 1s 4ms/step - loss: 0.8186 - accuracy: 0.6879 - val_loss: 0.7941 - val_accuracy: 0.6802\n",
            "Epoch 47/100\n",
            "262/262 [==============================] - 1s 4ms/step - loss: 0.7685 - accuracy: 0.6871 - val_loss: 0.9048 - val_accuracy: 0.6345\n",
            "Epoch 48/100\n",
            "262/262 [==============================] - 1s 4ms/step - loss: 0.7603 - accuracy: 0.7044 - val_loss: 0.8104 - val_accuracy: 0.6447\n",
            "Epoch 49/100\n",
            "262/262 [==============================] - 1s 4ms/step - loss: 0.7447 - accuracy: 0.7169 - val_loss: 1.1437 - val_accuracy: 0.5228\n",
            "Epoch 50/100\n",
            "262/262 [==============================] - 1s 4ms/step - loss: 0.7649 - accuracy: 0.7296 - val_loss: 0.8213 - val_accuracy: 0.6548\n",
            "Epoch 51/100\n",
            "262/262 [==============================] - 1s 4ms/step - loss: 0.6997 - accuracy: 0.7310 - val_loss: 0.8309 - val_accuracy: 0.6497\n",
            "Epoch 52/100\n",
            "262/262 [==============================] - 1s 4ms/step - loss: 0.7422 - accuracy: 0.7016 - val_loss: 0.8288 - val_accuracy: 0.6548\n",
            "Epoch 53/100\n",
            "262/262 [==============================] - 1s 4ms/step - loss: 0.7031 - accuracy: 0.7156 - val_loss: 0.7879 - val_accuracy: 0.6701\n",
            "Epoch 54/100\n",
            "262/262 [==============================] - 1s 4ms/step - loss: 0.6663 - accuracy: 0.7418 - val_loss: 0.7535 - val_accuracy: 0.6904\n",
            "Epoch 55/100\n",
            "262/262 [==============================] - 1s 4ms/step - loss: 0.6347 - accuracy: 0.7877 - val_loss: 0.7709 - val_accuracy: 0.6650\n",
            "Epoch 56/100\n",
            "262/262 [==============================] - 1s 4ms/step - loss: 0.6727 - accuracy: 0.7268 - val_loss: 0.7746 - val_accuracy: 0.6650\n",
            "Epoch 57/100\n",
            "262/262 [==============================] - 1s 4ms/step - loss: 0.6632 - accuracy: 0.7354 - val_loss: 0.8013 - val_accuracy: 0.6650\n",
            "Epoch 58/100\n",
            "262/262 [==============================] - 1s 4ms/step - loss: 0.7068 - accuracy: 0.7260 - val_loss: 0.7720 - val_accuracy: 0.6751\n",
            "Epoch 59/100\n",
            "262/262 [==============================] - 1s 4ms/step - loss: 0.6342 - accuracy: 0.7550 - val_loss: 0.7709 - val_accuracy: 0.6701\n",
            "Epoch 60/100\n",
            "262/262 [==============================] - 1s 4ms/step - loss: 0.6113 - accuracy: 0.7688 - val_loss: 0.8135 - val_accuracy: 0.6701\n",
            "Epoch 61/100\n",
            "262/262 [==============================] - 1s 4ms/step - loss: 0.6588 - accuracy: 0.7615 - val_loss: 0.7355 - val_accuracy: 0.6751\n",
            "Epoch 62/100\n",
            "262/262 [==============================] - 1s 4ms/step - loss: 0.6002 - accuracy: 0.7441 - val_loss: 0.7534 - val_accuracy: 0.6954\n",
            "Epoch 63/100\n",
            "262/262 [==============================] - 1s 4ms/step - loss: 0.6074 - accuracy: 0.7501 - val_loss: 0.7845 - val_accuracy: 0.6650\n",
            "Epoch 64/100\n",
            "262/262 [==============================] - 1s 4ms/step - loss: 0.5783 - accuracy: 0.7586 - val_loss: 0.7672 - val_accuracy: 0.7005\n",
            "Epoch 65/100\n",
            "262/262 [==============================] - 1s 4ms/step - loss: 0.5705 - accuracy: 0.7773 - val_loss: 0.7618 - val_accuracy: 0.6954\n",
            "Epoch 66/100\n",
            "262/262 [==============================] - 1s 4ms/step - loss: 0.6217 - accuracy: 0.7317 - val_loss: 0.7582 - val_accuracy: 0.6954\n",
            "Epoch 67/100\n",
            "262/262 [==============================] - 1s 4ms/step - loss: 0.5866 - accuracy: 0.7745 - val_loss: 0.7315 - val_accuracy: 0.6954\n",
            "Epoch 68/100\n",
            "262/262 [==============================] - 1s 4ms/step - loss: 0.5573 - accuracy: 0.7887 - val_loss: 0.7624 - val_accuracy: 0.6954\n",
            "Epoch 69/100\n",
            "262/262 [==============================] - 1s 4ms/step - loss: 0.5527 - accuracy: 0.8151 - val_loss: 0.7577 - val_accuracy: 0.6701\n",
            "Epoch 70/100\n",
            "262/262 [==============================] - 1s 4ms/step - loss: 0.5326 - accuracy: 0.7947 - val_loss: 0.8038 - val_accuracy: 0.6751\n",
            "Epoch 71/100\n",
            "262/262 [==============================] - 1s 4ms/step - loss: 0.5562 - accuracy: 0.7818 - val_loss: 0.7424 - val_accuracy: 0.6954\n",
            "Epoch 72/100\n",
            "262/262 [==============================] - 1s 4ms/step - loss: 0.5481 - accuracy: 0.7874 - val_loss: 0.8545 - val_accuracy: 0.6853\n",
            "Epoch 73/100\n",
            "262/262 [==============================] - 1s 4ms/step - loss: 0.5488 - accuracy: 0.7862 - val_loss: 0.7197 - val_accuracy: 0.6954\n",
            "Epoch 74/100\n",
            "262/262 [==============================] - 1s 4ms/step - loss: 0.5010 - accuracy: 0.8088 - val_loss: 0.7294 - val_accuracy: 0.7056\n",
            "Epoch 75/100\n",
            "262/262 [==============================] - 1s 4ms/step - loss: 0.5067 - accuracy: 0.7820 - val_loss: 0.7404 - val_accuracy: 0.6650\n",
            "Epoch 76/100\n",
            "262/262 [==============================] - 1s 4ms/step - loss: 0.5422 - accuracy: 0.7944 - val_loss: 0.7686 - val_accuracy: 0.7157\n",
            "Epoch 77/100\n",
            "262/262 [==============================] - 1s 4ms/step - loss: 0.4384 - accuracy: 0.8417 - val_loss: 0.7238 - val_accuracy: 0.7107\n",
            "Epoch 78/100\n",
            "262/262 [==============================] - 1s 4ms/step - loss: 0.5537 - accuracy: 0.7737 - val_loss: 0.7584 - val_accuracy: 0.6853\n",
            "Epoch 79/100\n",
            "262/262 [==============================] - 1s 4ms/step - loss: 0.4962 - accuracy: 0.8111 - val_loss: 0.7362 - val_accuracy: 0.7107\n",
            "Epoch 80/100\n",
            "262/262 [==============================] - 1s 4ms/step - loss: 0.4934 - accuracy: 0.8214 - val_loss: 0.7067 - val_accuracy: 0.7107\n",
            "Epoch 81/100\n",
            "262/262 [==============================] - 1s 4ms/step - loss: 0.5757 - accuracy: 0.7614 - val_loss: 0.7604 - val_accuracy: 0.7056\n",
            "Epoch 82/100\n",
            "262/262 [==============================] - 1s 4ms/step - loss: 0.4736 - accuracy: 0.8068 - val_loss: 0.6771 - val_accuracy: 0.7310\n",
            "Epoch 83/100\n",
            "262/262 [==============================] - 1s 4ms/step - loss: 0.4752 - accuracy: 0.8109 - val_loss: 0.7606 - val_accuracy: 0.6751\n",
            "Epoch 84/100\n",
            "262/262 [==============================] - 1s 4ms/step - loss: 0.5170 - accuracy: 0.8039 - val_loss: 0.7932 - val_accuracy: 0.7056\n",
            "Epoch 85/100\n",
            "262/262 [==============================] - 1s 4ms/step - loss: 0.4853 - accuracy: 0.7890 - val_loss: 0.7432 - val_accuracy: 0.7157\n",
            "Epoch 86/100\n",
            "262/262 [==============================] - 1s 4ms/step - loss: 0.4523 - accuracy: 0.8211 - val_loss: 0.7587 - val_accuracy: 0.6904\n",
            "Epoch 87/100\n",
            "262/262 [==============================] - 1s 4ms/step - loss: 0.4836 - accuracy: 0.8111 - val_loss: 0.7711 - val_accuracy: 0.7107\n",
            "Epoch 88/100\n",
            "262/262 [==============================] - 1s 4ms/step - loss: 0.4362 - accuracy: 0.8289 - val_loss: 0.7056 - val_accuracy: 0.7360\n",
            "Epoch 89/100\n",
            "262/262 [==============================] - 1s 4ms/step - loss: 0.4354 - accuracy: 0.8164 - val_loss: 0.7196 - val_accuracy: 0.7056\n",
            "Epoch 90/100\n",
            "262/262 [==============================] - 1s 4ms/step - loss: 0.4906 - accuracy: 0.8100 - val_loss: 0.6939 - val_accuracy: 0.7208\n",
            "Epoch 91/100\n",
            "262/262 [==============================] - 1s 4ms/step - loss: 0.4652 - accuracy: 0.8309 - val_loss: 0.8061 - val_accuracy: 0.7259\n",
            "Epoch 92/100\n",
            "262/262 [==============================] - 1s 4ms/step - loss: 0.4726 - accuracy: 0.8036 - val_loss: 0.7203 - val_accuracy: 0.7107\n",
            "Epoch 93/100\n",
            "262/262 [==============================] - 1s 4ms/step - loss: 0.4007 - accuracy: 0.8411 - val_loss: 0.7181 - val_accuracy: 0.7107\n",
            "Epoch 94/100\n",
            "262/262 [==============================] - 1s 4ms/step - loss: 0.4570 - accuracy: 0.8248 - val_loss: 0.7356 - val_accuracy: 0.7005\n",
            "Epoch 95/100\n",
            "262/262 [==============================] - 1s 4ms/step - loss: 0.4382 - accuracy: 0.8167 - val_loss: 0.7115 - val_accuracy: 0.7107\n",
            "Epoch 96/100\n",
            "262/262 [==============================] - 1s 4ms/step - loss: 0.4610 - accuracy: 0.8353 - val_loss: 0.7494 - val_accuracy: 0.7157\n",
            "Epoch 97/100\n",
            "262/262 [==============================] - 1s 4ms/step - loss: 0.4290 - accuracy: 0.8148 - val_loss: 0.7598 - val_accuracy: 0.7056\n",
            "Epoch 98/100\n",
            "262/262 [==============================] - 1s 4ms/step - loss: 0.4490 - accuracy: 0.8180 - val_loss: 0.7189 - val_accuracy: 0.7157\n",
            "Epoch 99/100\n",
            "262/262 [==============================] - 1s 4ms/step - loss: 0.3803 - accuracy: 0.8525 - val_loss: 0.7763 - val_accuracy: 0.7107\n",
            "Epoch 100/100\n",
            "262/262 [==============================] - 1s 4ms/step - loss: 0.4051 - accuracy: 0.8279 - val_loss: 0.8031 - val_accuracy: 0.7259\n",
            "[32.47996139526367, 0.08629441261291504]\n",
            "Epoch 1/100\n",
            "262/262 [==============================] - 2s 5ms/step - loss: 1.9309 - accuracy: 0.1587 - val_loss: 1.8599 - val_accuracy: 0.2908\n",
            "Epoch 2/100\n",
            "262/262 [==============================] - 1s 4ms/step - loss: 1.8508 - accuracy: 0.2256 - val_loss: 1.8589 - val_accuracy: 0.3418\n",
            "Epoch 3/100\n",
            "262/262 [==============================] - 1s 4ms/step - loss: 1.8484 - accuracy: 0.2492 - val_loss: 1.8434 - val_accuracy: 0.2806\n",
            "Epoch 4/100\n",
            "262/262 [==============================] - 1s 4ms/step - loss: 1.8278 - accuracy: 0.2506 - val_loss: 1.8379 - val_accuracy: 0.2959\n",
            "Epoch 5/100\n",
            "262/262 [==============================] - 1s 4ms/step - loss: 1.8333 - accuracy: 0.2545 - val_loss: 1.8352 - val_accuracy: 0.3316\n",
            "Epoch 6/100\n",
            "262/262 [==============================] - 1s 4ms/step - loss: 1.8175 - accuracy: 0.2647 - val_loss: 1.8304 - val_accuracy: 0.3776\n",
            "Epoch 7/100\n",
            "262/262 [==============================] - 1s 4ms/step - loss: 1.8167 - accuracy: 0.3031 - val_loss: 1.8034 - val_accuracy: 0.3878\n",
            "Epoch 8/100\n",
            "262/262 [==============================] - 1s 4ms/step - loss: 1.8111 - accuracy: 0.2899 - val_loss: 1.7892 - val_accuracy: 0.3265\n",
            "Epoch 9/100\n",
            "262/262 [==============================] - 1s 4ms/step - loss: 1.7865 - accuracy: 0.2887 - val_loss: 1.7682 - val_accuracy: 0.3622\n",
            "Epoch 10/100\n",
            "262/262 [==============================] - 1s 4ms/step - loss: 1.7360 - accuracy: 0.3557 - val_loss: 1.7305 - val_accuracy: 0.3929\n",
            "Epoch 11/100\n",
            "262/262 [==============================] - 1s 4ms/step - loss: 1.7194 - accuracy: 0.3635 - val_loss: 1.7110 - val_accuracy: 0.3469\n",
            "Epoch 12/100\n",
            "262/262 [==============================] - 1s 4ms/step - loss: 1.6706 - accuracy: 0.3906 - val_loss: 1.6482 - val_accuracy: 0.3367\n",
            "Epoch 13/100\n",
            "262/262 [==============================] - 1s 4ms/step - loss: 1.6115 - accuracy: 0.4209 - val_loss: 1.5850 - val_accuracy: 0.4184\n",
            "Epoch 14/100\n",
            "262/262 [==============================] - 1s 4ms/step - loss: 1.5794 - accuracy: 0.4152 - val_loss: 1.4977 - val_accuracy: 0.5357\n",
            "Epoch 15/100\n",
            "262/262 [==============================] - 1s 4ms/step - loss: 1.4977 - accuracy: 0.4790 - val_loss: 1.4333 - val_accuracy: 0.4847\n",
            "Epoch 16/100\n",
            "262/262 [==============================] - 1s 4ms/step - loss: 1.4251 - accuracy: 0.4704 - val_loss: 1.3871 - val_accuracy: 0.5255\n",
            "Epoch 17/100\n",
            "262/262 [==============================] - 1s 4ms/step - loss: 1.3845 - accuracy: 0.4858 - val_loss: 1.3219 - val_accuracy: 0.5153\n",
            "Epoch 18/100\n",
            "262/262 [==============================] - 1s 4ms/step - loss: 1.3219 - accuracy: 0.5227 - val_loss: 1.2614 - val_accuracy: 0.5357\n",
            "Epoch 19/100\n",
            "262/262 [==============================] - 1s 4ms/step - loss: 1.2885 - accuracy: 0.5384 - val_loss: 1.2033 - val_accuracy: 0.5306\n",
            "Epoch 20/100\n",
            "262/262 [==============================] - 1s 4ms/step - loss: 1.2507 - accuracy: 0.5362 - val_loss: 1.2472 - val_accuracy: 0.4949\n",
            "Epoch 21/100\n",
            "262/262 [==============================] - 1s 4ms/step - loss: 1.2269 - accuracy: 0.5366 - val_loss: 1.1582 - val_accuracy: 0.5408\n",
            "Epoch 22/100\n",
            "262/262 [==============================] - 1s 4ms/step - loss: 1.2185 - accuracy: 0.5495 - val_loss: 1.1717 - val_accuracy: 0.5357\n",
            "Epoch 23/100\n",
            "262/262 [==============================] - 1s 4ms/step - loss: 1.1597 - accuracy: 0.5573 - val_loss: 1.1393 - val_accuracy: 0.5306\n",
            "Epoch 24/100\n",
            "262/262 [==============================] - 1s 4ms/step - loss: 1.0811 - accuracy: 0.6096 - val_loss: 1.0969 - val_accuracy: 0.5459\n",
            "Epoch 25/100\n",
            "262/262 [==============================] - 1s 4ms/step - loss: 1.0756 - accuracy: 0.6150 - val_loss: 1.1071 - val_accuracy: 0.5612\n",
            "Epoch 26/100\n",
            "262/262 [==============================] - 1s 4ms/step - loss: 1.0693 - accuracy: 0.5839 - val_loss: 1.0537 - val_accuracy: 0.5612\n",
            "Epoch 27/100\n",
            "262/262 [==============================] - 1s 4ms/step - loss: 1.0488 - accuracy: 0.6217 - val_loss: 1.0672 - val_accuracy: 0.5612\n",
            "Epoch 28/100\n",
            "262/262 [==============================] - 1s 4ms/step - loss: 0.9966 - accuracy: 0.6232 - val_loss: 1.0226 - val_accuracy: 0.5714\n",
            "Epoch 29/100\n",
            "262/262 [==============================] - 1s 4ms/step - loss: 0.9824 - accuracy: 0.6352 - val_loss: 1.0081 - val_accuracy: 0.5714\n",
            "Epoch 30/100\n",
            "262/262 [==============================] - 1s 4ms/step - loss: 0.9410 - accuracy: 0.6349 - val_loss: 1.0171 - val_accuracy: 0.5816\n",
            "Epoch 31/100\n",
            "262/262 [==============================] - 1s 4ms/step - loss: 0.9467 - accuracy: 0.6424 - val_loss: 0.9808 - val_accuracy: 0.5816\n",
            "Epoch 32/100\n",
            "262/262 [==============================] - 1s 4ms/step - loss: 0.9280 - accuracy: 0.6399 - val_loss: 0.9688 - val_accuracy: 0.5969\n",
            "Epoch 33/100\n",
            "262/262 [==============================] - 1s 4ms/step - loss: 0.9814 - accuracy: 0.6244 - val_loss: 0.9790 - val_accuracy: 0.5816\n",
            "Epoch 34/100\n",
            "262/262 [==============================] - 1s 4ms/step - loss: 0.9389 - accuracy: 0.6245 - val_loss: 0.9714 - val_accuracy: 0.5867\n",
            "Epoch 35/100\n",
            "262/262 [==============================] - 1s 4ms/step - loss: 0.9987 - accuracy: 0.5854 - val_loss: 0.9665 - val_accuracy: 0.5765\n",
            "Epoch 36/100\n",
            "262/262 [==============================] - 1s 4ms/step - loss: 0.8332 - accuracy: 0.6656 - val_loss: 0.9620 - val_accuracy: 0.5918\n",
            "Epoch 37/100\n",
            "262/262 [==============================] - 1s 4ms/step - loss: 0.8638 - accuracy: 0.6927 - val_loss: 0.9435 - val_accuracy: 0.6020\n",
            "Epoch 38/100\n",
            "262/262 [==============================] - 1s 4ms/step - loss: 0.8556 - accuracy: 0.6618 - val_loss: 0.9279 - val_accuracy: 0.5765\n",
            "Epoch 39/100\n",
            "262/262 [==============================] - 1s 4ms/step - loss: 0.8669 - accuracy: 0.6643 - val_loss: 0.9143 - val_accuracy: 0.6224\n",
            "Epoch 40/100\n",
            "262/262 [==============================] - 1s 4ms/step - loss: 0.8185 - accuracy: 0.6687 - val_loss: 0.9470 - val_accuracy: 0.5816\n",
            "Epoch 41/100\n",
            "262/262 [==============================] - 1s 4ms/step - loss: 0.8222 - accuracy: 0.6740 - val_loss: 0.8615 - val_accuracy: 0.6378\n",
            "Epoch 42/100\n",
            "262/262 [==============================] - 1s 4ms/step - loss: 0.7777 - accuracy: 0.6896 - val_loss: 0.8863 - val_accuracy: 0.6020\n",
            "Epoch 43/100\n",
            "262/262 [==============================] - 1s 4ms/step - loss: 0.7910 - accuracy: 0.6790 - val_loss: 0.8699 - val_accuracy: 0.6276\n",
            "Epoch 44/100\n",
            "262/262 [==============================] - 1s 4ms/step - loss: 0.8437 - accuracy: 0.6499 - val_loss: 0.9778 - val_accuracy: 0.5816\n",
            "Epoch 45/100\n",
            "262/262 [==============================] - 1s 4ms/step - loss: 0.7697 - accuracy: 0.7124 - val_loss: 0.8590 - val_accuracy: 0.6122\n",
            "Epoch 46/100\n",
            "262/262 [==============================] - 1s 4ms/step - loss: 0.8225 - accuracy: 0.6819 - val_loss: 0.8333 - val_accuracy: 0.6633\n",
            "Epoch 47/100\n",
            "262/262 [==============================] - 1s 4ms/step - loss: 0.7608 - accuracy: 0.6963 - val_loss: 0.8359 - val_accuracy: 0.6633\n",
            "Epoch 48/100\n",
            "262/262 [==============================] - 1s 4ms/step - loss: 0.7482 - accuracy: 0.7131 - val_loss: 0.8428 - val_accuracy: 0.6378\n",
            "Epoch 49/100\n",
            "262/262 [==============================] - 1s 4ms/step - loss: 0.7316 - accuracy: 0.7068 - val_loss: 0.7995 - val_accuracy: 0.6735\n",
            "Epoch 50/100\n",
            "262/262 [==============================] - 1s 4ms/step - loss: 0.7168 - accuracy: 0.7286 - val_loss: 0.8372 - val_accuracy: 0.6173\n",
            "Epoch 51/100\n",
            "262/262 [==============================] - 1s 4ms/step - loss: 0.7352 - accuracy: 0.7106 - val_loss: 0.8263 - val_accuracy: 0.6582\n",
            "Epoch 52/100\n",
            "262/262 [==============================] - 1s 4ms/step - loss: 0.6705 - accuracy: 0.7309 - val_loss: 0.8131 - val_accuracy: 0.6378\n",
            "Epoch 53/100\n",
            "262/262 [==============================] - 1s 4ms/step - loss: 0.7210 - accuracy: 0.7139 - val_loss: 0.8110 - val_accuracy: 0.6480\n",
            "Epoch 54/100\n",
            "262/262 [==============================] - 1s 4ms/step - loss: 0.6687 - accuracy: 0.7316 - val_loss: 0.8239 - val_accuracy: 0.6429\n",
            "Epoch 55/100\n",
            "262/262 [==============================] - 1s 4ms/step - loss: 0.6672 - accuracy: 0.7401 - val_loss: 0.8204 - val_accuracy: 0.6429\n",
            "Epoch 56/100\n",
            "262/262 [==============================] - 1s 4ms/step - loss: 0.7012 - accuracy: 0.7376 - val_loss: 0.8419 - val_accuracy: 0.6378\n",
            "Epoch 57/100\n",
            "262/262 [==============================] - 1s 4ms/step - loss: 0.6433 - accuracy: 0.7410 - val_loss: 0.7877 - val_accuracy: 0.6633\n",
            "Epoch 58/100\n",
            "262/262 [==============================] - 1s 4ms/step - loss: 0.6468 - accuracy: 0.7423 - val_loss: 0.8035 - val_accuracy: 0.6531\n",
            "Epoch 59/100\n",
            "262/262 [==============================] - 1s 4ms/step - loss: 0.6466 - accuracy: 0.7328 - val_loss: 0.8459 - val_accuracy: 0.6480\n",
            "Epoch 60/100\n",
            "262/262 [==============================] - 1s 4ms/step - loss: 0.6108 - accuracy: 0.7484 - val_loss: 0.7815 - val_accuracy: 0.6735\n",
            "Epoch 61/100\n",
            "262/262 [==============================] - 1s 4ms/step - loss: 0.5991 - accuracy: 0.7720 - val_loss: 0.8670 - val_accuracy: 0.6378\n",
            "Epoch 62/100\n",
            "262/262 [==============================] - 1s 4ms/step - loss: 0.7015 - accuracy: 0.7346 - val_loss: 0.7639 - val_accuracy: 0.6582\n",
            "Epoch 63/100\n",
            "262/262 [==============================] - 1s 4ms/step - loss: 0.6407 - accuracy: 0.7394 - val_loss: 0.8094 - val_accuracy: 0.6582\n",
            "Epoch 64/100\n",
            "262/262 [==============================] - 1s 4ms/step - loss: 0.5992 - accuracy: 0.7700 - val_loss: 0.8836 - val_accuracy: 0.6480\n",
            "Epoch 65/100\n",
            "262/262 [==============================] - 1s 4ms/step - loss: 0.5773 - accuracy: 0.7850 - val_loss: 0.7419 - val_accuracy: 0.6633\n",
            "Epoch 66/100\n",
            "262/262 [==============================] - 1s 4ms/step - loss: 0.6366 - accuracy: 0.7387 - val_loss: 0.7472 - val_accuracy: 0.6633\n",
            "Epoch 67/100\n",
            "262/262 [==============================] - 1s 4ms/step - loss: 0.6372 - accuracy: 0.7522 - val_loss: 0.7776 - val_accuracy: 0.6735\n",
            "Epoch 68/100\n",
            "262/262 [==============================] - 1s 4ms/step - loss: 0.5969 - accuracy: 0.7624 - val_loss: 0.8099 - val_accuracy: 0.6378\n",
            "Epoch 69/100\n",
            "262/262 [==============================] - 1s 4ms/step - loss: 0.6285 - accuracy: 0.7432 - val_loss: 0.8024 - val_accuracy: 0.6531\n",
            "Epoch 70/100\n",
            "262/262 [==============================] - 1s 4ms/step - loss: 0.5891 - accuracy: 0.7686 - val_loss: 0.7744 - val_accuracy: 0.6786\n",
            "Epoch 71/100\n",
            "262/262 [==============================] - 1s 4ms/step - loss: 0.6100 - accuracy: 0.7575 - val_loss: 0.7095 - val_accuracy: 0.7041\n",
            "Epoch 72/100\n",
            "262/262 [==============================] - 1s 4ms/step - loss: 0.5464 - accuracy: 0.7743 - val_loss: 0.7446 - val_accuracy: 0.6684\n",
            "Epoch 73/100\n",
            "262/262 [==============================] - 1s 4ms/step - loss: 0.5381 - accuracy: 0.8099 - val_loss: 0.7916 - val_accuracy: 0.6990\n",
            "Epoch 74/100\n",
            "262/262 [==============================] - 1s 4ms/step - loss: 0.5394 - accuracy: 0.7832 - val_loss: 0.7349 - val_accuracy: 0.6990\n",
            "Epoch 75/100\n",
            "262/262 [==============================] - 1s 4ms/step - loss: 0.5472 - accuracy: 0.7630 - val_loss: 0.7709 - val_accuracy: 0.6582\n",
            "Epoch 76/100\n",
            "262/262 [==============================] - 1s 4ms/step - loss: 0.5243 - accuracy: 0.7903 - val_loss: 0.7438 - val_accuracy: 0.6888\n",
            "Epoch 77/100\n",
            "262/262 [==============================] - 1s 4ms/step - loss: 0.5720 - accuracy: 0.8017 - val_loss: 0.8402 - val_accuracy: 0.6633\n",
            "Epoch 78/100\n",
            "262/262 [==============================] - 1s 4ms/step - loss: 0.5879 - accuracy: 0.7582 - val_loss: 0.7969 - val_accuracy: 0.6633\n",
            "Epoch 79/100\n",
            "262/262 [==============================] - 1s 4ms/step - loss: 0.5367 - accuracy: 0.8134 - val_loss: 0.8037 - val_accuracy: 0.6684\n",
            "Epoch 80/100\n",
            "262/262 [==============================] - 1s 4ms/step - loss: 0.5684 - accuracy: 0.7761 - val_loss: 0.7676 - val_accuracy: 0.6735\n",
            "Epoch 81/100\n",
            "262/262 [==============================] - 1s 4ms/step - loss: 0.5092 - accuracy: 0.7797 - val_loss: 0.7379 - val_accuracy: 0.6990\n",
            "Epoch 82/100\n",
            "262/262 [==============================] - 1s 4ms/step - loss: 0.5093 - accuracy: 0.7713 - val_loss: 0.7328 - val_accuracy: 0.6837\n",
            "Epoch 83/100\n",
            "262/262 [==============================] - 1s 4ms/step - loss: 0.5408 - accuracy: 0.7763 - val_loss: 0.7749 - val_accuracy: 0.7296\n",
            "Epoch 84/100\n",
            "262/262 [==============================] - 1s 4ms/step - loss: 0.5002 - accuracy: 0.7937 - val_loss: 0.8026 - val_accuracy: 0.6990\n",
            "Epoch 85/100\n",
            "262/262 [==============================] - 1s 4ms/step - loss: 0.4877 - accuracy: 0.7959 - val_loss: 0.7498 - val_accuracy: 0.6990\n",
            "Epoch 86/100\n",
            "262/262 [==============================] - 1s 4ms/step - loss: 0.4894 - accuracy: 0.8236 - val_loss: 0.7266 - val_accuracy: 0.7245\n",
            "Epoch 87/100\n",
            "262/262 [==============================] - 1s 4ms/step - loss: 0.4750 - accuracy: 0.8181 - val_loss: 0.7438 - val_accuracy: 0.6939\n",
            "Epoch 88/100\n",
            "262/262 [==============================] - 1s 4ms/step - loss: 0.5788 - accuracy: 0.7606 - val_loss: 0.7314 - val_accuracy: 0.6939\n",
            "Epoch 89/100\n",
            "262/262 [==============================] - 1s 4ms/step - loss: 0.4704 - accuracy: 0.8122 - val_loss: 0.7589 - val_accuracy: 0.6888\n",
            "Epoch 90/100\n",
            "262/262 [==============================] - 1s 4ms/step - loss: 0.4796 - accuracy: 0.8080 - val_loss: 0.8152 - val_accuracy: 0.6990\n",
            "Epoch 91/100\n",
            "262/262 [==============================] - 1s 4ms/step - loss: 0.4105 - accuracy: 0.8314 - val_loss: 0.7664 - val_accuracy: 0.6786\n",
            "Epoch 92/100\n",
            "262/262 [==============================] - 1s 4ms/step - loss: 0.4941 - accuracy: 0.7785 - val_loss: 0.7518 - val_accuracy: 0.6837\n",
            "Epoch 93/100\n",
            "262/262 [==============================] - 1s 4ms/step - loss: 0.4947 - accuracy: 0.8031 - val_loss: 0.7264 - val_accuracy: 0.6888\n",
            "Epoch 94/100\n",
            "262/262 [==============================] - 1s 4ms/step - loss: 0.4639 - accuracy: 0.7899 - val_loss: 0.7326 - val_accuracy: 0.7194\n",
            "Epoch 95/100\n",
            "262/262 [==============================] - 1s 4ms/step - loss: 0.4130 - accuracy: 0.8342 - val_loss: 0.7530 - val_accuracy: 0.7092\n",
            "Epoch 96/100\n",
            "262/262 [==============================] - 1s 4ms/step - loss: 0.4800 - accuracy: 0.8230 - val_loss: 0.8483 - val_accuracy: 0.7092\n",
            "Epoch 97/100\n",
            "262/262 [==============================] - 1s 4ms/step - loss: 0.4048 - accuracy: 0.8436 - val_loss: 0.7230 - val_accuracy: 0.7194\n",
            "Epoch 98/100\n",
            "262/262 [==============================] - 1s 4ms/step - loss: 0.4321 - accuracy: 0.8036 - val_loss: 0.7204 - val_accuracy: 0.7143\n",
            "Epoch 99/100\n",
            "262/262 [==============================] - 1s 4ms/step - loss: 0.4400 - accuracy: 0.8140 - val_loss: 0.7278 - val_accuracy: 0.6990\n",
            "Epoch 100/100\n",
            "262/262 [==============================] - 1s 4ms/step - loss: 0.4286 - accuracy: 0.8327 - val_loss: 0.7218 - val_accuracy: 0.7245\n",
            "[19.326322555541992, 0.14795918762683868]\n",
            "Epoch 1/100\n",
            "262/262 [==============================] - 2s 5ms/step - loss: 1.9158 - accuracy: 0.2192 - val_loss: 1.8649 - val_accuracy: 0.2398\n",
            "Epoch 2/100\n",
            "262/262 [==============================] - 1s 4ms/step - loss: 1.8582 - accuracy: 0.2638 - val_loss: 1.8575 - val_accuracy: 0.2398\n",
            "Epoch 3/100\n",
            "262/262 [==============================] - 1s 4ms/step - loss: 1.8641 - accuracy: 0.2368 - val_loss: 1.8546 - val_accuracy: 0.2398\n",
            "Epoch 4/100\n",
            "262/262 [==============================] - 1s 4ms/step - loss: 1.8601 - accuracy: 0.2289 - val_loss: 1.8577 - val_accuracy: 0.2398\n",
            "Epoch 5/100\n",
            "262/262 [==============================] - 1s 4ms/step - loss: 1.8474 - accuracy: 0.2622 - val_loss: 1.8551 - val_accuracy: 0.2398\n",
            "Epoch 6/100\n",
            "262/262 [==============================] - 1s 4ms/step - loss: 1.8203 - accuracy: 0.2500 - val_loss: 1.8537 - val_accuracy: 0.2398\n",
            "Epoch 7/100\n",
            "262/262 [==============================] - 1s 4ms/step - loss: 1.8564 - accuracy: 0.2494 - val_loss: 1.8531 - val_accuracy: 0.2398\n",
            "Epoch 8/100\n",
            "262/262 [==============================] - 1s 4ms/step - loss: 1.8374 - accuracy: 0.2601 - val_loss: 1.8514 - val_accuracy: 0.2398\n",
            "Epoch 9/100\n",
            "262/262 [==============================] - 1s 4ms/step - loss: 1.8383 - accuracy: 0.2583 - val_loss: 1.8465 - val_accuracy: 0.2398\n",
            "Epoch 10/100\n",
            "262/262 [==============================] - 1s 4ms/step - loss: 1.8467 - accuracy: 0.2781 - val_loss: 1.8409 - val_accuracy: 0.2398\n",
            "Epoch 11/100\n",
            "262/262 [==============================] - 1s 4ms/step - loss: 1.8324 - accuracy: 0.2590 - val_loss: 1.8360 - val_accuracy: 0.2398\n",
            "Epoch 12/100\n",
            "262/262 [==============================] - 1s 4ms/step - loss: 1.8303 - accuracy: 0.2783 - val_loss: 1.8359 - val_accuracy: 0.2398\n",
            "Epoch 13/100\n",
            "262/262 [==============================] - 1s 4ms/step - loss: 1.8082 - accuracy: 0.2617 - val_loss: 1.8328 - val_accuracy: 0.2398\n",
            "Epoch 14/100\n",
            "262/262 [==============================] - 1s 4ms/step - loss: 1.8244 - accuracy: 0.2697 - val_loss: 1.8274 - val_accuracy: 0.2398\n",
            "Epoch 15/100\n",
            "262/262 [==============================] - 1s 4ms/step - loss: 1.8188 - accuracy: 0.2828 - val_loss: 1.8268 - val_accuracy: 0.3673\n",
            "Epoch 16/100\n",
            "262/262 [==============================] - 1s 4ms/step - loss: 1.8151 - accuracy: 0.2769 - val_loss: 1.8222 - val_accuracy: 0.2500\n",
            "Epoch 17/100\n",
            "262/262 [==============================] - 1s 4ms/step - loss: 1.8317 - accuracy: 0.2933 - val_loss: 1.8190 - val_accuracy: 0.2398\n",
            "Epoch 18/100\n",
            "262/262 [==============================] - 1s 4ms/step - loss: 1.8223 - accuracy: 0.2656 - val_loss: 1.8027 - val_accuracy: 0.3622\n",
            "Epoch 19/100\n",
            "262/262 [==============================] - 1s 4ms/step - loss: 1.8017 - accuracy: 0.3185 - val_loss: 1.7887 - val_accuracy: 0.2653\n",
            "Epoch 20/100\n",
            "262/262 [==============================] - 1s 4ms/step - loss: 1.8025 - accuracy: 0.3014 - val_loss: 1.7719 - val_accuracy: 0.3878\n",
            "Epoch 21/100\n",
            "262/262 [==============================] - 1s 4ms/step - loss: 1.7585 - accuracy: 0.3766 - val_loss: 1.7652 - val_accuracy: 0.3827\n",
            "Epoch 22/100\n",
            "262/262 [==============================] - 1s 4ms/step - loss: 1.7459 - accuracy: 0.3712 - val_loss: 1.7367 - val_accuracy: 0.3980\n",
            "Epoch 23/100\n",
            "262/262 [==============================] - 1s 4ms/step - loss: 1.7087 - accuracy: 0.4052 - val_loss: 1.6872 - val_accuracy: 0.3929\n",
            "Epoch 24/100\n",
            "262/262 [==============================] - 1s 4ms/step - loss: 1.6869 - accuracy: 0.3857 - val_loss: 1.6415 - val_accuracy: 0.4031\n",
            "Epoch 25/100\n",
            "262/262 [==============================] - 1s 4ms/step - loss: 1.6395 - accuracy: 0.4070 - val_loss: 1.6062 - val_accuracy: 0.4388\n",
            "Epoch 26/100\n",
            "262/262 [==============================] - 1s 4ms/step - loss: 1.6263 - accuracy: 0.4228 - val_loss: 1.5358 - val_accuracy: 0.4643\n",
            "Epoch 27/100\n",
            "262/262 [==============================] - 1s 4ms/step - loss: 1.5401 - accuracy: 0.4739 - val_loss: 1.4967 - val_accuracy: 0.4796\n",
            "Epoch 28/100\n",
            "262/262 [==============================] - 1s 4ms/step - loss: 1.4637 - accuracy: 0.4870 - val_loss: 1.4101 - val_accuracy: 0.4745\n",
            "Epoch 29/100\n",
            "262/262 [==============================] - 1s 4ms/step - loss: 1.4586 - accuracy: 0.4645 - val_loss: 1.3818 - val_accuracy: 0.5357\n",
            "Epoch 30/100\n",
            "262/262 [==============================] - 1s 4ms/step - loss: 1.3779 - accuracy: 0.5042 - val_loss: 1.3090 - val_accuracy: 0.5561\n",
            "Epoch 31/100\n",
            "262/262 [==============================] - 1s 4ms/step - loss: 1.3342 - accuracy: 0.5050 - val_loss: 1.2818 - val_accuracy: 0.5663\n",
            "Epoch 32/100\n",
            "262/262 [==============================] - 1s 4ms/step - loss: 1.3640 - accuracy: 0.4793 - val_loss: 1.2100 - val_accuracy: 0.5714\n",
            "Epoch 33/100\n",
            "262/262 [==============================] - 1s 4ms/step - loss: 1.3012 - accuracy: 0.5191 - val_loss: 1.2314 - val_accuracy: 0.5561\n",
            "Epoch 34/100\n",
            "262/262 [==============================] - 1s 4ms/step - loss: 1.2760 - accuracy: 0.5164 - val_loss: 1.2482 - val_accuracy: 0.5714\n",
            "Epoch 35/100\n",
            "262/262 [==============================] - 1s 4ms/step - loss: 1.2442 - accuracy: 0.5255 - val_loss: 1.1362 - val_accuracy: 0.6071\n",
            "Epoch 36/100\n",
            "262/262 [==============================] - 1s 4ms/step - loss: 1.2056 - accuracy: 0.5861 - val_loss: 1.1131 - val_accuracy: 0.5969\n",
            "Epoch 37/100\n",
            "262/262 [==============================] - 1s 4ms/step - loss: 1.1311 - accuracy: 0.5720 - val_loss: 1.0675 - val_accuracy: 0.6173\n",
            "Epoch 38/100\n",
            "262/262 [==============================] - 1s 4ms/step - loss: 1.0647 - accuracy: 0.5869 - val_loss: 1.0307 - val_accuracy: 0.6071\n",
            "Epoch 39/100\n",
            "262/262 [==============================] - 1s 4ms/step - loss: 1.1044 - accuracy: 0.5481 - val_loss: 1.0385 - val_accuracy: 0.5918\n",
            "Epoch 40/100\n",
            "262/262 [==============================] - 1s 4ms/step - loss: 1.1318 - accuracy: 0.5551 - val_loss: 0.9944 - val_accuracy: 0.6071\n",
            "Epoch 41/100\n",
            "262/262 [==============================] - 1s 4ms/step - loss: 1.0428 - accuracy: 0.5962 - val_loss: 0.9799 - val_accuracy: 0.6224\n",
            "Epoch 42/100\n",
            "262/262 [==============================] - 1s 4ms/step - loss: 1.0491 - accuracy: 0.6047 - val_loss: 0.9714 - val_accuracy: 0.6429\n",
            "Epoch 43/100\n",
            "262/262 [==============================] - 1s 4ms/step - loss: 1.0362 - accuracy: 0.5725 - val_loss: 0.9528 - val_accuracy: 0.6224\n",
            "Epoch 44/100\n",
            "262/262 [==============================] - 1s 4ms/step - loss: 1.0708 - accuracy: 0.5964 - val_loss: 0.9059 - val_accuracy: 0.6582\n",
            "Epoch 45/100\n",
            "262/262 [==============================] - 1s 4ms/step - loss: 0.9798 - accuracy: 0.6337 - val_loss: 0.9323 - val_accuracy: 0.6429\n",
            "Epoch 46/100\n",
            "262/262 [==============================] - 1s 4ms/step - loss: 0.9518 - accuracy: 0.6232 - val_loss: 0.9622 - val_accuracy: 0.6531\n",
            "Epoch 47/100\n",
            "262/262 [==============================] - 1s 4ms/step - loss: 0.9028 - accuracy: 0.6285 - val_loss: 0.8859 - val_accuracy: 0.6633\n",
            "Epoch 48/100\n",
            "262/262 [==============================] - 1s 4ms/step - loss: 0.9545 - accuracy: 0.6191 - val_loss: 0.8850 - val_accuracy: 0.6480\n",
            "Epoch 49/100\n",
            "262/262 [==============================] - 1s 4ms/step - loss: 0.9387 - accuracy: 0.6211 - val_loss: 0.8923 - val_accuracy: 0.6429\n",
            "Epoch 50/100\n",
            "262/262 [==============================] - 1s 4ms/step - loss: 0.8762 - accuracy: 0.6679 - val_loss: 0.8372 - val_accuracy: 0.6990\n",
            "Epoch 51/100\n",
            "262/262 [==============================] - 1s 4ms/step - loss: 0.8776 - accuracy: 0.6432 - val_loss: 0.8378 - val_accuracy: 0.6531\n",
            "Epoch 52/100\n",
            "262/262 [==============================] - 1s 4ms/step - loss: 0.9138 - accuracy: 0.6361 - val_loss: 0.8165 - val_accuracy: 0.6735\n",
            "Epoch 53/100\n",
            "262/262 [==============================] - 1s 4ms/step - loss: 0.8616 - accuracy: 0.6514 - val_loss: 0.8180 - val_accuracy: 0.6939\n",
            "Epoch 54/100\n",
            "262/262 [==============================] - 1s 4ms/step - loss: 0.8490 - accuracy: 0.6497 - val_loss: 0.8243 - val_accuracy: 0.6684\n",
            "Epoch 55/100\n",
            "262/262 [==============================] - 1s 4ms/step - loss: 0.8209 - accuracy: 0.6867 - val_loss: 0.8069 - val_accuracy: 0.6837\n",
            "Epoch 56/100\n",
            "262/262 [==============================] - 1s 4ms/step - loss: 0.8369 - accuracy: 0.6955 - val_loss: 0.7744 - val_accuracy: 0.6786\n",
            "Epoch 57/100\n",
            "262/262 [==============================] - 1s 4ms/step - loss: 0.8197 - accuracy: 0.6733 - val_loss: 0.7952 - val_accuracy: 0.6939\n",
            "Epoch 58/100\n",
            "262/262 [==============================] - 1s 4ms/step - loss: 0.7482 - accuracy: 0.6758 - val_loss: 0.7829 - val_accuracy: 0.7092\n",
            "Epoch 59/100\n",
            "262/262 [==============================] - 1s 4ms/step - loss: 0.7618 - accuracy: 0.6694 - val_loss: 0.7746 - val_accuracy: 0.6990\n",
            "Epoch 60/100\n",
            "262/262 [==============================] - 1s 5ms/step - loss: 0.8114 - accuracy: 0.6474 - val_loss: 0.7539 - val_accuracy: 0.6735\n",
            "Epoch 61/100\n",
            "262/262 [==============================] - 1s 4ms/step - loss: 0.7992 - accuracy: 0.6915 - val_loss: 0.7576 - val_accuracy: 0.6684\n",
            "Epoch 62/100\n",
            "262/262 [==============================] - 1s 4ms/step - loss: 0.7867 - accuracy: 0.6716 - val_loss: 0.7358 - val_accuracy: 0.7041\n",
            "Epoch 63/100\n",
            "262/262 [==============================] - 1s 4ms/step - loss: 0.7618 - accuracy: 0.6641 - val_loss: 0.7344 - val_accuracy: 0.7245\n",
            "Epoch 64/100\n",
            "262/262 [==============================] - 1s 4ms/step - loss: 0.7404 - accuracy: 0.7196 - val_loss: 0.7875 - val_accuracy: 0.6429\n",
            "Epoch 65/100\n",
            "262/262 [==============================] - 1s 4ms/step - loss: 0.7289 - accuracy: 0.7025 - val_loss: 0.7413 - val_accuracy: 0.7551\n",
            "Epoch 66/100\n",
            "262/262 [==============================] - 1s 4ms/step - loss: 0.7404 - accuracy: 0.6956 - val_loss: 0.7315 - val_accuracy: 0.7398\n",
            "Epoch 67/100\n",
            "262/262 [==============================] - 1s 4ms/step - loss: 0.7810 - accuracy: 0.6819 - val_loss: 0.7094 - val_accuracy: 0.7194\n",
            "Epoch 68/100\n",
            "262/262 [==============================] - 1s 4ms/step - loss: 0.7091 - accuracy: 0.7193 - val_loss: 0.7040 - val_accuracy: 0.7296\n",
            "Epoch 69/100\n",
            "262/262 [==============================] - 1s 4ms/step - loss: 0.6583 - accuracy: 0.7251 - val_loss: 0.6872 - val_accuracy: 0.7347\n",
            "Epoch 70/100\n",
            "262/262 [==============================] - 1s 4ms/step - loss: 0.6667 - accuracy: 0.7549 - val_loss: 0.6824 - val_accuracy: 0.7143\n",
            "Epoch 71/100\n",
            "262/262 [==============================] - 1s 4ms/step - loss: 0.6321 - accuracy: 0.7556 - val_loss: 0.6921 - val_accuracy: 0.7092\n",
            "Epoch 72/100\n",
            "262/262 [==============================] - 1s 4ms/step - loss: 0.6733 - accuracy: 0.7375 - val_loss: 0.6834 - val_accuracy: 0.7398\n",
            "Epoch 73/100\n",
            "262/262 [==============================] - 1s 4ms/step - loss: 0.6745 - accuracy: 0.7391 - val_loss: 0.6594 - val_accuracy: 0.7347\n",
            "Epoch 74/100\n",
            "262/262 [==============================] - 1s 4ms/step - loss: 0.6708 - accuracy: 0.7510 - val_loss: 0.7126 - val_accuracy: 0.7296\n",
            "Epoch 75/100\n",
            "262/262 [==============================] - 1s 4ms/step - loss: 0.6097 - accuracy: 0.7512 - val_loss: 0.7316 - val_accuracy: 0.7041\n",
            "Epoch 76/100\n",
            "262/262 [==============================] - 1s 4ms/step - loss: 0.6481 - accuracy: 0.7507 - val_loss: 0.6562 - val_accuracy: 0.7449\n",
            "Epoch 77/100\n",
            "262/262 [==============================] - 1s 4ms/step - loss: 0.6375 - accuracy: 0.7468 - val_loss: 0.7053 - val_accuracy: 0.7143\n",
            "Epoch 78/100\n",
            "262/262 [==============================] - 1s 4ms/step - loss: 0.6479 - accuracy: 0.7284 - val_loss: 0.6472 - val_accuracy: 0.7602\n",
            "Epoch 79/100\n",
            "262/262 [==============================] - 1s 4ms/step - loss: 0.6422 - accuracy: 0.7447 - val_loss: 0.6440 - val_accuracy: 0.7602\n",
            "Epoch 80/100\n",
            "262/262 [==============================] - 1s 4ms/step - loss: 0.6164 - accuracy: 0.7872 - val_loss: 0.6568 - val_accuracy: 0.7449\n",
            "Epoch 81/100\n",
            "262/262 [==============================] - 1s 4ms/step - loss: 0.5608 - accuracy: 0.7799 - val_loss: 0.6681 - val_accuracy: 0.7704\n",
            "Epoch 82/100\n",
            "262/262 [==============================] - 1s 4ms/step - loss: 0.5931 - accuracy: 0.7423 - val_loss: 0.6416 - val_accuracy: 0.7602\n",
            "Epoch 83/100\n",
            "262/262 [==============================] - 1s 4ms/step - loss: 0.5972 - accuracy: 0.7788 - val_loss: 0.6508 - val_accuracy: 0.7806\n",
            "Epoch 84/100\n",
            "262/262 [==============================] - 1s 4ms/step - loss: 0.5790 - accuracy: 0.7724 - val_loss: 0.6626 - val_accuracy: 0.7806\n",
            "Epoch 85/100\n",
            "262/262 [==============================] - 1s 4ms/step - loss: 0.5239 - accuracy: 0.8010 - val_loss: 0.6466 - val_accuracy: 0.7755\n",
            "Epoch 86/100\n",
            "262/262 [==============================] - 1s 4ms/step - loss: 0.5955 - accuracy: 0.7661 - val_loss: 0.6318 - val_accuracy: 0.7296\n",
            "Epoch 87/100\n",
            "262/262 [==============================] - 1s 4ms/step - loss: 0.5653 - accuracy: 0.7639 - val_loss: 0.6474 - val_accuracy: 0.7653\n",
            "Epoch 88/100\n",
            "262/262 [==============================] - 1s 4ms/step - loss: 0.4866 - accuracy: 0.8047 - val_loss: 0.6347 - val_accuracy: 0.7908\n",
            "Epoch 89/100\n",
            "262/262 [==============================] - 1s 4ms/step - loss: 0.5327 - accuracy: 0.7863 - val_loss: 0.6401 - val_accuracy: 0.7857\n",
            "Epoch 90/100\n",
            "262/262 [==============================] - 1s 4ms/step - loss: 0.5845 - accuracy: 0.7540 - val_loss: 0.6137 - val_accuracy: 0.7653\n",
            "Epoch 91/100\n",
            "262/262 [==============================] - 1s 4ms/step - loss: 0.5282 - accuracy: 0.7596 - val_loss: 0.6925 - val_accuracy: 0.7245\n",
            "Epoch 92/100\n",
            "262/262 [==============================] - 1s 4ms/step - loss: 0.5414 - accuracy: 0.7901 - val_loss: 0.6467 - val_accuracy: 0.7806\n",
            "Epoch 93/100\n",
            "262/262 [==============================] - 1s 4ms/step - loss: 0.5130 - accuracy: 0.7816 - val_loss: 0.6377 - val_accuracy: 0.8112\n",
            "Epoch 94/100\n",
            "262/262 [==============================] - 1s 5ms/step - loss: 0.5084 - accuracy: 0.7828 - val_loss: 0.6774 - val_accuracy: 0.7245\n",
            "Epoch 95/100\n",
            "262/262 [==============================] - 1s 5ms/step - loss: 0.5153 - accuracy: 0.7940 - val_loss: 0.6452 - val_accuracy: 0.7449\n",
            "Epoch 96/100\n",
            "262/262 [==============================] - 1s 5ms/step - loss: 0.4769 - accuracy: 0.8189 - val_loss: 0.6103 - val_accuracy: 0.7959\n",
            "Epoch 97/100\n",
            "262/262 [==============================] - 1s 5ms/step - loss: 0.5392 - accuracy: 0.7777 - val_loss: 0.6157 - val_accuracy: 0.7806\n",
            "Epoch 98/100\n",
            "262/262 [==============================] - 1s 5ms/step - loss: 0.4824 - accuracy: 0.8028 - val_loss: 0.5907 - val_accuracy: 0.8061\n",
            "Epoch 99/100\n",
            "262/262 [==============================] - 1s 5ms/step - loss: 0.4826 - accuracy: 0.8103 - val_loss: 0.6068 - val_accuracy: 0.7806\n",
            "Epoch 100/100\n",
            "262/262 [==============================] - 1s 5ms/step - loss: 0.4918 - accuracy: 0.8120 - val_loss: 0.6215 - val_accuracy: 0.7653\n",
            "[19.33363151550293, 0.16326530277729034]\n",
            "Epoch 1/100\n",
            "262/262 [==============================] - 2s 5ms/step - loss: 1.9664 - accuracy: 0.1480 - val_loss: 1.8590 - val_accuracy: 0.2347\n",
            "Epoch 2/100\n",
            "262/262 [==============================] - 1s 5ms/step - loss: 1.8542 - accuracy: 0.2610 - val_loss: 1.8205 - val_accuracy: 0.2755\n",
            "Epoch 3/100\n",
            "262/262 [==============================] - 1s 4ms/step - loss: 1.8466 - accuracy: 0.2694 - val_loss: 1.8069 - val_accuracy: 0.2347\n",
            "Epoch 4/100\n",
            "262/262 [==============================] - 1s 4ms/step - loss: 1.8640 - accuracy: 0.2517 - val_loss: 1.8113 - val_accuracy: 0.2398\n",
            "Epoch 5/100\n",
            "262/262 [==============================] - 1s 4ms/step - loss: 1.8241 - accuracy: 0.2950 - val_loss: 1.7769 - val_accuracy: 0.2908\n",
            "Epoch 6/100\n",
            "262/262 [==============================] - 1s 4ms/step - loss: 1.7865 - accuracy: 0.3125 - val_loss: 1.7796 - val_accuracy: 0.3418\n",
            "Epoch 7/100\n",
            "262/262 [==============================] - 1s 4ms/step - loss: 1.7885 - accuracy: 0.3192 - val_loss: 1.7482 - val_accuracy: 0.3367\n",
            "Epoch 8/100\n",
            "262/262 [==============================] - 1s 4ms/step - loss: 1.7596 - accuracy: 0.3540 - val_loss: 1.7089 - val_accuracy: 0.4031\n",
            "Epoch 9/100\n",
            "262/262 [==============================] - 1s 4ms/step - loss: 1.7216 - accuracy: 0.3664 - val_loss: 1.6731 - val_accuracy: 0.4439\n",
            "Epoch 10/100\n",
            "262/262 [==============================] - 1s 4ms/step - loss: 1.6920 - accuracy: 0.3996 - val_loss: 1.6414 - val_accuracy: 0.4337\n",
            "Epoch 11/100\n",
            "262/262 [==============================] - 1s 4ms/step - loss: 1.6522 - accuracy: 0.4164 - val_loss: 1.5508 - val_accuracy: 0.4490\n",
            "Epoch 12/100\n",
            "262/262 [==============================] - 1s 4ms/step - loss: 1.5962 - accuracy: 0.4498 - val_loss: 1.4854 - val_accuracy: 0.4847\n",
            "Epoch 13/100\n",
            "262/262 [==============================] - 1s 4ms/step - loss: 1.5548 - accuracy: 0.4515 - val_loss: 1.4272 - val_accuracy: 0.4643\n",
            "Epoch 14/100\n",
            "262/262 [==============================] - 1s 4ms/step - loss: 1.4976 - accuracy: 0.4756 - val_loss: 1.3385 - val_accuracy: 0.4898\n",
            "Epoch 15/100\n",
            "262/262 [==============================] - 1s 4ms/step - loss: 1.4222 - accuracy: 0.4959 - val_loss: 1.2478 - val_accuracy: 0.5765\n",
            "Epoch 16/100\n",
            "262/262 [==============================] - 1s 4ms/step - loss: 1.3917 - accuracy: 0.4776 - val_loss: 1.2091 - val_accuracy: 0.5918\n",
            "Epoch 17/100\n",
            "262/262 [==============================] - 1s 4ms/step - loss: 1.2819 - accuracy: 0.5508 - val_loss: 1.1455 - val_accuracy: 0.6020\n",
            "Epoch 18/100\n",
            "262/262 [==============================] - 1s 4ms/step - loss: 1.2752 - accuracy: 0.5633 - val_loss: 1.1367 - val_accuracy: 0.5969\n",
            "Epoch 19/100\n",
            "262/262 [==============================] - 1s 4ms/step - loss: 1.1763 - accuracy: 0.5733 - val_loss: 1.1254 - val_accuracy: 0.5918\n",
            "Epoch 20/100\n",
            "262/262 [==============================] - 1s 4ms/step - loss: 1.1346 - accuracy: 0.5705 - val_loss: 1.0432 - val_accuracy: 0.6327\n",
            "Epoch 21/100\n",
            "262/262 [==============================] - 1s 4ms/step - loss: 1.1597 - accuracy: 0.5916 - val_loss: 1.0439 - val_accuracy: 0.6224\n",
            "Epoch 22/100\n",
            "262/262 [==============================] - 1s 4ms/step - loss: 1.1425 - accuracy: 0.5786 - val_loss: 1.0067 - val_accuracy: 0.6531\n",
            "Epoch 23/100\n",
            "262/262 [==============================] - 1s 4ms/step - loss: 1.0679 - accuracy: 0.6021 - val_loss: 1.0259 - val_accuracy: 0.6429\n",
            "Epoch 24/100\n",
            "262/262 [==============================] - 1s 4ms/step - loss: 1.0786 - accuracy: 0.5920 - val_loss: 0.9498 - val_accuracy: 0.6429\n",
            "Epoch 25/100\n",
            "262/262 [==============================] - 1s 4ms/step - loss: 1.0899 - accuracy: 0.5696 - val_loss: 0.9381 - val_accuracy: 0.6480\n",
            "Epoch 26/100\n",
            "262/262 [==============================] - 1s 4ms/step - loss: 1.0381 - accuracy: 0.6045 - val_loss: 0.9338 - val_accuracy: 0.6531\n",
            "Epoch 27/100\n",
            "262/262 [==============================] - 1s 4ms/step - loss: 0.9998 - accuracy: 0.6026 - val_loss: 0.9536 - val_accuracy: 0.6378\n",
            "Epoch 28/100\n",
            "262/262 [==============================] - 1s 4ms/step - loss: 0.9856 - accuracy: 0.6203 - val_loss: 0.9429 - val_accuracy: 0.6020\n",
            "Epoch 29/100\n",
            "262/262 [==============================] - 1s 4ms/step - loss: 0.9214 - accuracy: 0.6225 - val_loss: 0.9070 - val_accuracy: 0.6888\n",
            "Epoch 30/100\n",
            "262/262 [==============================] - 1s 4ms/step - loss: 0.9076 - accuracy: 0.6324 - val_loss: 0.8508 - val_accuracy: 0.6786\n",
            "Epoch 31/100\n",
            "262/262 [==============================] - 1s 4ms/step - loss: 0.9798 - accuracy: 0.6140 - val_loss: 0.8447 - val_accuracy: 0.6735\n",
            "Epoch 32/100\n",
            "262/262 [==============================] - 1s 4ms/step - loss: 0.9120 - accuracy: 0.6162 - val_loss: 0.8294 - val_accuracy: 0.6531\n",
            "Epoch 33/100\n",
            "262/262 [==============================] - 1s 4ms/step - loss: 0.8455 - accuracy: 0.6694 - val_loss: 0.8505 - val_accuracy: 0.6378\n",
            "Epoch 34/100\n",
            "262/262 [==============================] - 1s 4ms/step - loss: 0.8672 - accuracy: 0.6820 - val_loss: 0.8047 - val_accuracy: 0.6939\n",
            "Epoch 35/100\n",
            "262/262 [==============================] - 1s 4ms/step - loss: 0.8447 - accuracy: 0.6768 - val_loss: 0.9006 - val_accuracy: 0.6071\n",
            "Epoch 36/100\n",
            "262/262 [==============================] - 1s 4ms/step - loss: 0.8795 - accuracy: 0.6491 - val_loss: 0.7824 - val_accuracy: 0.6837\n",
            "Epoch 37/100\n",
            "262/262 [==============================] - 1s 4ms/step - loss: 0.7887 - accuracy: 0.6937 - val_loss: 0.8165 - val_accuracy: 0.6735\n",
            "Epoch 38/100\n",
            "262/262 [==============================] - 1s 4ms/step - loss: 0.7967 - accuracy: 0.6761 - val_loss: 0.7582 - val_accuracy: 0.7092\n",
            "Epoch 39/100\n",
            "250/262 [===========================>..] - ETA: 0s - loss: 0.8129 - accuracy: 0.6903"
          ],
          "name": "stdout"
        },
        {
          "output_type": "error",
          "ename": "KeyboardInterrupt",
          "evalue": "ignored",
          "traceback": [
            "\u001b[0;31m---------------------------------------------------------------------------\u001b[0m",
            "\u001b[0;31mKeyboardInterrupt\u001b[0m                         Traceback (most recent call last)",
            "\u001b[0;32m<ipython-input-246-413971638ae6>\u001b[0m in \u001b[0;36m<module>\u001b[0;34m()\u001b[0m\n\u001b[1;32m     17\u001b[0m     \u001b[0mmodel\u001b[0m \u001b[0;34m=\u001b[0m \u001b[0mcreate_model\u001b[0m\u001b[0;34m(\u001b[0m\u001b[0;34m)\u001b[0m\u001b[0;34m\u001b[0m\u001b[0;34m\u001b[0m\u001b[0m\n\u001b[1;32m     18\u001b[0m     \u001b[0;31m#hist = model.fit_generator(aug.flow(X_Train_, Y_Train), epochs=EPOCHS,validation_data=(X_Test_, Y_Test), callbacks=callbacks_list, verbose=0)\u001b[0m\u001b[0;34m\u001b[0m\u001b[0;34m\u001b[0m\u001b[0;34m\u001b[0m\u001b[0m\n\u001b[0;32m---> 19\u001b[0;31m     \u001b[0mhist\u001b[0m \u001b[0;34m=\u001b[0m \u001b[0mmodel\u001b[0m\u001b[0;34m.\u001b[0m\u001b[0mfit\u001b[0m\u001b[0;34m(\u001b[0m\u001b[0mX_Train_\u001b[0m\u001b[0;34m,\u001b[0m \u001b[0mY_Train\u001b[0m\u001b[0;34m,\u001b[0m \u001b[0mbatch_size\u001b[0m \u001b[0;34m=\u001b[0m \u001b[0mbatch_size\u001b[0m\u001b[0;34m,\u001b[0m \u001b[0mepochs\u001b[0m\u001b[0;34m=\u001b[0m \u001b[0mEPOCHS\u001b[0m\u001b[0;34m,\u001b[0m \u001b[0mvalidation_data\u001b[0m\u001b[0;34m=\u001b[0m\u001b[0;34m(\u001b[0m\u001b[0mX_Test_\u001b[0m\u001b[0;34m,\u001b[0m \u001b[0mY_Test\u001b[0m\u001b[0;34m)\u001b[0m\u001b[0;34m,\u001b[0m \u001b[0mverbose\u001b[0m\u001b[0;34m=\u001b[0m\u001b[0;36m1\u001b[0m\u001b[0;34m)\u001b[0m\u001b[0;34m\u001b[0m\u001b[0;34m\u001b[0m\u001b[0m\n\u001b[0m\u001b[1;32m     20\u001b[0m     \u001b[0mmodel\u001b[0m\u001b[0;34m.\u001b[0m\u001b[0mload_weights\u001b[0m\u001b[0;34m(\u001b[0m\u001b[0mfile_path\u001b[0m\u001b[0;34m)\u001b[0m\u001b[0;34m\u001b[0m\u001b[0;34m\u001b[0m\u001b[0m\n\u001b[1;32m     21\u001b[0m     \u001b[0mresult\u001b[0m\u001b[0;34m.\u001b[0m\u001b[0mappend\u001b[0m\u001b[0;34m(\u001b[0m\u001b[0mmodel\u001b[0m\u001b[0;34m(\u001b[0m\u001b[0mX_Test_\u001b[0m\u001b[0;34m)\u001b[0m\u001b[0;34m)\u001b[0m\u001b[0;34m\u001b[0m\u001b[0;34m\u001b[0m\u001b[0m\n",
            "\u001b[0;32m/usr/local/lib/python3.7/dist-packages/tensorflow/python/keras/engine/training.py\u001b[0m in \u001b[0;36mfit\u001b[0;34m(self, x, y, batch_size, epochs, verbose, callbacks, validation_split, validation_data, shuffle, class_weight, sample_weight, initial_epoch, steps_per_epoch, validation_steps, validation_batch_size, validation_freq, max_queue_size, workers, use_multiprocessing)\u001b[0m\n\u001b[1;32m   1097\u001b[0m                 \u001b[0mbatch_size\u001b[0m\u001b[0;34m=\u001b[0m\u001b[0mbatch_size\u001b[0m\u001b[0;34m,\u001b[0m\u001b[0;34m\u001b[0m\u001b[0;34m\u001b[0m\u001b[0m\n\u001b[1;32m   1098\u001b[0m                 _r=1):\n\u001b[0;32m-> 1099\u001b[0;31m               \u001b[0mcallbacks\u001b[0m\u001b[0;34m.\u001b[0m\u001b[0mon_train_batch_begin\u001b[0m\u001b[0;34m(\u001b[0m\u001b[0mstep\u001b[0m\u001b[0;34m)\u001b[0m\u001b[0;34m\u001b[0m\u001b[0;34m\u001b[0m\u001b[0m\n\u001b[0m\u001b[1;32m   1100\u001b[0m               \u001b[0mtmp_logs\u001b[0m \u001b[0;34m=\u001b[0m \u001b[0mself\u001b[0m\u001b[0;34m.\u001b[0m\u001b[0mtrain_function\u001b[0m\u001b[0;34m(\u001b[0m\u001b[0miterator\u001b[0m\u001b[0;34m)\u001b[0m\u001b[0;34m\u001b[0m\u001b[0;34m\u001b[0m\u001b[0m\n\u001b[1;32m   1101\u001b[0m               \u001b[0;32mif\u001b[0m \u001b[0mdata_handler\u001b[0m\u001b[0;34m.\u001b[0m\u001b[0mshould_sync\u001b[0m\u001b[0;34m:\u001b[0m\u001b[0;34m\u001b[0m\u001b[0;34m\u001b[0m\u001b[0m\n",
            "\u001b[0;32m/usr/local/lib/python3.7/dist-packages/tensorflow/python/keras/callbacks.py\u001b[0m in \u001b[0;36mon_train_batch_begin\u001b[0;34m(self, batch, logs)\u001b[0m\n\u001b[1;32m    442\u001b[0m     \"\"\"\n\u001b[1;32m    443\u001b[0m     \u001b[0;32mif\u001b[0m \u001b[0mself\u001b[0m\u001b[0;34m.\u001b[0m\u001b[0m_should_call_train_batch_hooks\u001b[0m\u001b[0;34m:\u001b[0m\u001b[0;34m\u001b[0m\u001b[0;34m\u001b[0m\u001b[0m\n\u001b[0;32m--> 444\u001b[0;31m       \u001b[0mself\u001b[0m\u001b[0;34m.\u001b[0m\u001b[0m_call_batch_hook\u001b[0m\u001b[0;34m(\u001b[0m\u001b[0mModeKeys\u001b[0m\u001b[0;34m.\u001b[0m\u001b[0mTRAIN\u001b[0m\u001b[0;34m,\u001b[0m \u001b[0;34m'begin'\u001b[0m\u001b[0;34m,\u001b[0m \u001b[0mbatch\u001b[0m\u001b[0;34m,\u001b[0m \u001b[0mlogs\u001b[0m\u001b[0;34m=\u001b[0m\u001b[0mlogs\u001b[0m\u001b[0;34m)\u001b[0m\u001b[0;34m\u001b[0m\u001b[0;34m\u001b[0m\u001b[0m\n\u001b[0m\u001b[1;32m    445\u001b[0m \u001b[0;34m\u001b[0m\u001b[0m\n\u001b[1;32m    446\u001b[0m   \u001b[0;32mdef\u001b[0m \u001b[0mon_train_batch_end\u001b[0m\u001b[0;34m(\u001b[0m\u001b[0mself\u001b[0m\u001b[0;34m,\u001b[0m \u001b[0mbatch\u001b[0m\u001b[0;34m,\u001b[0m \u001b[0mlogs\u001b[0m\u001b[0;34m=\u001b[0m\u001b[0;32mNone\u001b[0m\u001b[0;34m)\u001b[0m\u001b[0;34m:\u001b[0m\u001b[0;34m\u001b[0m\u001b[0;34m\u001b[0m\u001b[0m\n",
            "\u001b[0;32m/usr/local/lib/python3.7/dist-packages/tensorflow/python/keras/callbacks.py\u001b[0m in \u001b[0;36m_call_batch_hook\u001b[0;34m(self, mode, hook, batch, logs)\u001b[0m\n\u001b[1;32m    292\u001b[0m \u001b[0;34m\u001b[0m\u001b[0m\n\u001b[1;32m    293\u001b[0m     \u001b[0;32mif\u001b[0m \u001b[0mhook\u001b[0m \u001b[0;34m==\u001b[0m \u001b[0;34m'begin'\u001b[0m\u001b[0;34m:\u001b[0m\u001b[0;34m\u001b[0m\u001b[0;34m\u001b[0m\u001b[0m\n\u001b[0;32m--> 294\u001b[0;31m       \u001b[0mself\u001b[0m\u001b[0;34m.\u001b[0m\u001b[0m_call_batch_begin_hook\u001b[0m\u001b[0;34m(\u001b[0m\u001b[0mmode\u001b[0m\u001b[0;34m,\u001b[0m \u001b[0mbatch\u001b[0m\u001b[0;34m,\u001b[0m \u001b[0mlogs\u001b[0m\u001b[0;34m)\u001b[0m\u001b[0;34m\u001b[0m\u001b[0;34m\u001b[0m\u001b[0m\n\u001b[0m\u001b[1;32m    295\u001b[0m     \u001b[0;32melif\u001b[0m \u001b[0mhook\u001b[0m \u001b[0;34m==\u001b[0m \u001b[0;34m'end'\u001b[0m\u001b[0;34m:\u001b[0m\u001b[0;34m\u001b[0m\u001b[0;34m\u001b[0m\u001b[0m\n\u001b[1;32m    296\u001b[0m       \u001b[0mself\u001b[0m\u001b[0;34m.\u001b[0m\u001b[0m_call_batch_end_hook\u001b[0m\u001b[0;34m(\u001b[0m\u001b[0mmode\u001b[0m\u001b[0;34m,\u001b[0m \u001b[0mbatch\u001b[0m\u001b[0;34m,\u001b[0m \u001b[0mlogs\u001b[0m\u001b[0;34m)\u001b[0m\u001b[0;34m\u001b[0m\u001b[0;34m\u001b[0m\u001b[0m\n",
            "\u001b[0;32m/usr/local/lib/python3.7/dist-packages/tensorflow/python/keras/callbacks.py\u001b[0m in \u001b[0;36m_call_batch_begin_hook\u001b[0;34m(self, mode, batch, logs)\u001b[0m\n\u001b[1;32m    301\u001b[0m     \u001b[0;34m\"\"\"Helper function for `on_*_batch_begin` methods.\"\"\"\u001b[0m\u001b[0;34m\u001b[0m\u001b[0;34m\u001b[0m\u001b[0m\n\u001b[1;32m    302\u001b[0m     \u001b[0mhook_name\u001b[0m \u001b[0;34m=\u001b[0m \u001b[0;34m'on_{mode}_batch_begin'\u001b[0m\u001b[0;34m.\u001b[0m\u001b[0mformat\u001b[0m\u001b[0;34m(\u001b[0m\u001b[0mmode\u001b[0m\u001b[0;34m=\u001b[0m\u001b[0mmode\u001b[0m\u001b[0;34m)\u001b[0m\u001b[0;34m\u001b[0m\u001b[0;34m\u001b[0m\u001b[0m\n\u001b[0;32m--> 303\u001b[0;31m     \u001b[0mself\u001b[0m\u001b[0;34m.\u001b[0m\u001b[0m_call_batch_hook_helper\u001b[0m\u001b[0;34m(\u001b[0m\u001b[0mhook_name\u001b[0m\u001b[0;34m,\u001b[0m \u001b[0mbatch\u001b[0m\u001b[0;34m,\u001b[0m \u001b[0mlogs\u001b[0m\u001b[0;34m)\u001b[0m\u001b[0;34m\u001b[0m\u001b[0;34m\u001b[0m\u001b[0m\n\u001b[0m\u001b[1;32m    304\u001b[0m \u001b[0;34m\u001b[0m\u001b[0m\n\u001b[1;32m    305\u001b[0m     \u001b[0;32mif\u001b[0m \u001b[0mself\u001b[0m\u001b[0;34m.\u001b[0m\u001b[0m_check_timing\u001b[0m\u001b[0;34m:\u001b[0m\u001b[0;34m\u001b[0m\u001b[0;34m\u001b[0m\u001b[0m\n",
            "\u001b[0;32m/usr/local/lib/python3.7/dist-packages/tensorflow/python/keras/callbacks.py\u001b[0m in \u001b[0;36m_call_batch_hook_helper\u001b[0;34m(self, hook_name, batch, logs)\u001b[0m\n\u001b[1;32m    357\u001b[0m       \u001b[0;32melse\u001b[0m\u001b[0;34m:\u001b[0m\u001b[0;34m\u001b[0m\u001b[0;34m\u001b[0m\u001b[0m\n\u001b[1;32m    358\u001b[0m         \u001b[0;32mif\u001b[0m \u001b[0mnumpy_logs\u001b[0m \u001b[0;32mis\u001b[0m \u001b[0;32mNone\u001b[0m\u001b[0;34m:\u001b[0m  \u001b[0;31m# Only convert once.\u001b[0m\u001b[0;34m\u001b[0m\u001b[0;34m\u001b[0m\u001b[0m\n\u001b[0;32m--> 359\u001b[0;31m           \u001b[0mnumpy_logs\u001b[0m \u001b[0;34m=\u001b[0m \u001b[0mtf_utils\u001b[0m\u001b[0;34m.\u001b[0m\u001b[0mto_numpy_or_python_type\u001b[0m\u001b[0;34m(\u001b[0m\u001b[0mlogs\u001b[0m\u001b[0;34m)\u001b[0m\u001b[0;34m\u001b[0m\u001b[0;34m\u001b[0m\u001b[0m\n\u001b[0m\u001b[1;32m    360\u001b[0m         \u001b[0mhook\u001b[0m\u001b[0;34m(\u001b[0m\u001b[0mbatch\u001b[0m\u001b[0;34m,\u001b[0m \u001b[0mnumpy_logs\u001b[0m\u001b[0;34m)\u001b[0m\u001b[0;34m\u001b[0m\u001b[0;34m\u001b[0m\u001b[0m\n\u001b[1;32m    361\u001b[0m \u001b[0;34m\u001b[0m\u001b[0m\n",
            "\u001b[0;32m/usr/local/lib/python3.7/dist-packages/tensorflow/python/keras/utils/tf_utils.py\u001b[0m in \u001b[0;36mto_numpy_or_python_type\u001b[0;34m(tensors)\u001b[0m\n\u001b[1;32m    488\u001b[0m \u001b[0;34m\u001b[0m\u001b[0m\n\u001b[1;32m    489\u001b[0m \u001b[0;34m\u001b[0m\u001b[0m\n\u001b[0;32m--> 490\u001b[0;31m \u001b[0;32mdef\u001b[0m \u001b[0mto_numpy_or_python_type\u001b[0m\u001b[0;34m(\u001b[0m\u001b[0mtensors\u001b[0m\u001b[0;34m)\u001b[0m\u001b[0;34m:\u001b[0m\u001b[0;34m\u001b[0m\u001b[0;34m\u001b[0m\u001b[0m\n\u001b[0m\u001b[1;32m    491\u001b[0m   \"\"\"Converts a structure of `Tensor`s to `NumPy` arrays or Python scalar types.\n\u001b[1;32m    492\u001b[0m \u001b[0;34m\u001b[0m\u001b[0m\n",
            "\u001b[0;31mKeyboardInterrupt\u001b[0m: "
          ]
        }
      ]
    },
    {
      "cell_type": "code",
      "metadata": {
        "colab": {
          "base_uri": "https://localhost:8080/"
        },
        "id": "Rw9C9pHFi-7X",
        "outputId": "49beb96b-81b2-47a2-9d34-ce8a3a0576cb"
      },
      "source": [
        "print(scores_acc,scores_loss)"
      ],
      "execution_count": 239,
      "outputs": [
        {
          "output_type": "stream",
          "text": [
            "[0.08629441261291504, 0.14795918762683868, 0.16326530277729034, 0.13775509595870972, 0.14795918762683868] [32.47996139526367, 19.326322555541992, 19.33363151550293, 14.761933326721191, 14.550609588623047]\n"
          ],
          "name": "stdout"
        }
      ]
    },
    {
      "cell_type": "markdown",
      "metadata": {
        "id": "Yn-y1C04jXg8"
      },
      "source": [
        "# Taking model with lowest Loss\n"
      ]
    },
    {
      "cell_type": "code",
      "metadata": {
        "colab": {
          "base_uri": "https://localhost:8080/"
        },
        "id": "gfxW1Gm4jaRc",
        "outputId": "9a323730-ce9c-45dd-f8d4-5deb53e4ac2b"
      },
      "source": [
        "value_min = scores_loss\n",
        "value_index = scores_loss.index(value_min)\n",
        "print(value_index)"
      ],
      "execution_count": 240,
      "outputs": [
        {
          "output_type": "stream",
          "text": [
            "4\n"
          ],
          "name": "stdout"
        }
      ]
    },
    {
      "cell_type": "code",
      "metadata": {
        "id": "oBb6VOjzjdpv"
      },
      "source": [
        "model.load_weights(\"models\"+str(value_index)+\".hdf5\")\n",
        "\n",
        "best_model = model\n"
      ],
      "execution_count": 241,
      "outputs": []
    },
    {
      "cell_type": "markdown",
      "metadata": {
        "id": "ztsBK0s7pltf"
      },
      "source": [
        "# Evaluating model\n"
      ]
    },
    {
      "cell_type": "code",
      "metadata": {
        "colab": {
          "base_uri": "https://localhost:8080/"
        },
        "id": "ZLb_h5Dmp_sX",
        "outputId": "0131c858-1d22-42e9-c2d6-4be0e0b8179c"
      },
      "source": [
        "score = best_model.evaluate(X_test, y_test, verbose=0)\n",
        "print('Test Loss:', score[0])\n",
        "print('Test accuracy:', score[1])\n",
        "\n",
        "test_image = X_test[0:1]\n",
        "print (test_image.shape)\n",
        "\n",
        "print(best_model(test_image))\n",
        "print(best_model.predict_classes(test_image))\n",
        "print(y_test[0:1])\n",
        "\n",
        "#predict\n",
        "y_pred = best_model(test_image)\n",
        "print(\"prediction\")\n",
        "print(y_pred)\n",
        "print(np.argmax(y_pred, axis=1))"
      ],
      "execution_count": 242,
      "outputs": [
        {
          "output_type": "stream",
          "text": [
            "Test Loss: 14.756098747253418\n",
            "Test accuracy: 0.1450381726026535\n",
            "(1, 48, 48, 3)\n",
            "tf.Tensor(\n",
            "[[9.9999869e-01 4.0774731e-07 1.1838345e-08 5.2528986e-07 1.5994047e-08\n",
            "  1.8768141e-07 1.4716032e-07]], shape=(1, 7), dtype=float32)\n",
            "WARNING:tensorflow:5 out of the last 12 calls to <function Model.make_predict_function.<locals>.predict_function at 0x7fcbc5cdc830> triggered tf.function retracing. Tracing is expensive and the excessive number of tracings could be due to (1) creating @tf.function repeatedly in a loop, (2) passing tensors with different shapes, (3) passing Python objects instead of tensors. For (1), please define your @tf.function outside of the loop. For (2), @tf.function has experimental_relax_shapes=True option that relaxes argument shapes that can avoid unnecessary retracing. For (3), please refer to https://www.tensorflow.org/guide/function#controlling_retracing and https://www.tensorflow.org/api_docs/python/tf/function for  more details.\n",
            "[0]\n",
            "[[1. 0. 0. 0. 0. 0. 0.]]\n",
            "prediction\n",
            "tf.Tensor(\n",
            "[[9.9999869e-01 4.0774731e-07 1.1838345e-08 5.2528986e-07 1.5994047e-08\n",
            "  1.8768141e-07 1.4716032e-07]], shape=(1, 7), dtype=float32)\n",
            "[0]\n"
          ],
          "name": "stdout"
        },
        {
          "output_type": "stream",
          "text": [
            "/usr/local/lib/python3.7/dist-packages/tensorflow/python/keras/engine/sequential.py:450: UserWarning: `model.predict_classes()` is deprecated and will be removed after 2021-01-01. Please use instead:* `np.argmax(model.predict(x), axis=-1)`,   if your model does multi-class classification   (e.g. if it uses a `softmax` last-layer activation).* `(model.predict(x) > 0.5).astype(\"int32\")`,   if your model does binary classification   (e.g. if it uses a `sigmoid` last-layer activation).\n",
            "  warnings.warn('`model.predict_classes()` is deprecated and '\n"
          ],
          "name": "stderr"
        }
      ]
    },
    {
      "cell_type": "code",
      "metadata": {
        "colab": {
          "base_uri": "https://localhost:8080/"
        },
        "id": "FXjRK4TmCmgi",
        "outputId": "defe15ad-e9ab-4007-8a2a-fc82e77adb7e"
      },
      "source": [
        "test_image = X_test[0:1]\n",
        "test_image1 = X_test[0]\n",
        "print(test_image.shape)\n",
        "print(test_image1.shape)"
      ],
      "execution_count": 243,
      "outputs": [
        {
          "output_type": "stream",
          "text": [
            "(1, 48, 48, 3)\n",
            "(48, 48, 3)\n"
          ],
          "name": "stdout"
        }
      ]
    },
    {
      "cell_type": "markdown",
      "metadata": {
        "id": "dg1bFyMFqJdy"
      },
      "source": [
        "# Visualization"
      ]
    },
    {
      "cell_type": "code",
      "metadata": {
        "colab": {
          "base_uri": "https://localhost:8080/",
          "height": 562
        },
        "id": "_3J-eZcZqKHd",
        "outputId": "49e03109-3dc8-4b93-b5c0-d941d6044206"
      },
      "source": [
        "# visualizing losses and accuracy\n",
        "%matplotlib inline\n",
        "\n",
        "train_loss=hist.history['loss']\n",
        "val_loss=hist.history['val_loss']\n",
        "train_acc=hist.history['accuracy']\n",
        "val_acc=hist.history['val_accuracy']\n",
        "\n",
        "epochs = range(len(train_acc))\n",
        "\n",
        "plt.plot(epochs,train_loss,'r', label='train_loss')\n",
        "plt.plot(epochs,val_loss,'b', label='val_loss')\n",
        "plt.title('train_loss vs val_loss')\n",
        "plt.legend()\n",
        "plt.figure()\n",
        "\n",
        "plt.plot(epochs,train_acc,'r', label='train_acc')\n",
        "plt.plot(epochs,val_acc,'b', label='val_acc')\n",
        "plt.title('train_acc vs val_acc')\n",
        "plt.legend()\n",
        "plt.figure()\n",
        "\n",
        "#Model Save\n",
        "best_model.save_weights('model_weights.h5')\n",
        "best_model.save('model_keras.h5')"
      ],
      "execution_count": 244,
      "outputs": [
        {
          "output_type": "display_data",
          "data": {
            "image/png": "[encoded data removed]",
            "text/plain": [
              "<Figure size 432x288 with 1 Axes>"
            ]
          },
          "metadata": {
            "tags": [],
            "needs_background": "light"
          }
        },
        {
          "output_type": "display_data",
          "data": {
            "image/png": "[encoded data removed]",
            "text/plain": [
              "<Figure size 432x288 with 1 Axes>"
            ]
          },
          "metadata": {
            "tags": [],
            "needs_background": "light"
          }
        },
        {
          "output_type": "display_data",
          "data": {
            "text/plain": [
              "<Figure size 432x288 with 0 Axes>"
            ]
          },
          "metadata": {
            "tags": []
          }
        }
      ]
    },
    {
      "cell_type": "markdown",
      "metadata": {
        "id": "csTMf6NS3w7o"
      },
      "source": [
        "# Some sample visualization Result"
      ]
    },
    {
      "cell_type": "code",
      "metadata": {
        "colab": {
          "base_uri": "https://localhost:8080/",
          "height": 1000
        },
        "id": "6aC6CPRN3xdv",
        "outputId": "1b7af3e9-43bd-4321-95da-41b91cb3c515"
      },
      "source": [
        "for i in range(20):\n",
        "  cv2_imshow(X_test[i] * 255)\n",
        "  test_image = X_test[i: i+1]\n",
        "  y_pred = best_model(test_image)\n",
        "  print(\"predicted_label:\"+ getLabelByIndex(np.argmax(y_pred, axis=1)[0]))\n"
      ],
      "execution_count": 221,
      "outputs": [
        {
          "output_type": "display_data",
          "data": {
            "image/png": "[encoded data removed]",
            "text/plain": [
              "<PIL.Image.Image image mode=RGB size=48x48 at 0x7FCBBD7F5E90>"
            ]
          },
          "metadata": {
            "tags": []
          }
        },
        {
          "output_type": "stream",
          "text": [
            "predicted_label:anger\n"
          ],
          "name": "stdout"
        },
        {
          "output_type": "display_data",
          "data": {
            "image/png": "[encoded data removed]",
            "text/plain": [
              "<PIL.Image.Image image mode=RGB size=48x48 at 0x7FCBBD7F54D0>"
            ]
          },
          "metadata": {
            "tags": []
          }
        },
        {
          "output_type": "stream",
          "text": [
            "predicted_label:anger\n"
          ],
          "name": "stdout"
        },
        {
          "output_type": "display_data",
          "data": {
            "image/png": "[encoded data removed]",
            "text/plain": [
              "<PIL.Image.Image image mode=RGB size=48x48 at 0x7FCBBD7F5590>"
            ]
          },
          "metadata": {
            "tags": []
          }
        },
        {
          "output_type": "stream",
          "text": [
            "predicted_label:anger\n"
          ],
          "name": "stdout"
        },
        {
          "output_type": "display_data",
          "data": {
            "image/png": "[encoded data removed]",
            "text/plain": [
              "<PIL.Image.Image image mode=RGB size=48x48 at 0x7FCBC51351D0>"
            ]
          },
          "metadata": {
            "tags": []
          }
        },
        {
          "output_type": "stream",
          "text": [
            "predicted_label:anger\n"
          ],
          "name": "stdout"
        },
        {
          "output_type": "display_data",
          "data": {
            "image/png": "[encoded data removed]",
            "text/plain": [
              "<PIL.Image.Image image mode=RGB size=48x48 at 0x7FCBC5135050>"
            ]
          },
          "metadata": {
            "tags": []
          }
        },
        {
          "output_type": "stream",
          "text": [
            "predicted_label:anger\n"
          ],
          "name": "stdout"
        },
        {
          "output_type": "display_data",
          "data": {
            "image/png": "[encoded data removed]",
            "text/plain": [
              "<PIL.Image.Image image mode=RGB size=48x48 at 0x7FCBC5135A10>"
            ]
          },
          "metadata": {
            "tags": []
          }
        },
        {
          "output_type": "stream",
          "text": [
            "predicted_label:anger\n"
          ],
          "name": "stdout"
        },
        {
          "output_type": "display_data",
          "data": {
            "image/png": "[encoded data removed]",
            "text/plain": [
              "<PIL.Image.Image image mode=RGB size=48x48 at 0x7FCBBDE5D6D0>"
            ]
          },
          "metadata": {
            "tags": []
          }
        },
        {
          "output_type": "stream",
          "text": [
            "predicted_label:anger\n"
          ],
          "name": "stdout"
        },
        {
          "output_type": "display_data",
          "data": {
            "image/png": "[encoded data removed]",
            "text/plain": [
              "<PIL.Image.Image image mode=RGB size=48x48 at 0x7FCBC5135750>"
            ]
          },
          "metadata": {
            "tags": []
          }
        },
        {
          "output_type": "stream",
          "text": [
            "predicted_label:anger\n"
          ],
          "name": "stdout"
        },
        {
          "output_type": "display_data",
          "data": {
            "image/png": "[encoded data removed]",
            "text/plain": [
              "<PIL.Image.Image image mode=RGB size=48x48 at 0x7FCBC513C690>"
            ]
          },
          "metadata": {
            "tags": []
          }
        },
        {
          "output_type": "stream",
          "text": [
            "predicted_label:anger\n"
          ],
          "name": "stdout"
        },
        {
          "output_type": "display_data",
          "data": {
            "image/png": "[encoded data removed]",
            "text/plain": [
              "<PIL.Image.Image image mode=RGB size=48x48 at 0x7FCBC51350D0>"
            ]
          },
          "metadata": {
            "tags": []
          }
        },
        {
          "output_type": "stream",
          "text": [
            "predicted_label:anger\n"
          ],
          "name": "stdout"
        },
        {
          "output_type": "display_data",
          "data": {
            "image/png": "[encoded data removed]",
            "text/plain": [
              "<PIL.Image.Image image mode=RGB size=48x48 at 0x7FCBC5135190>"
            ]
          },
          "metadata": {
            "tags": []
          }
        },
        {
          "output_type": "stream",
          "text": [
            "predicted_label:anger\n"
          ],
          "name": "stdout"
        },
        {
          "output_type": "display_data",
          "data": {
            "image/png": "[encoded data removed]",
            "text/plain": [
              "<PIL.Image.Image image mode=RGB size=48x48 at 0x7FCBC5135990>"
            ]
          },
          "metadata": {
            "tags": []
          }
        },
        {
          "output_type": "stream",
          "text": [
            "predicted_label:anger\n"
          ],
          "name": "stdout"
        },
        {
          "output_type": "display_data",
          "data": {
            "image/png": "[encoded data removed]",
            "text/plain": [
              "<PIL.Image.Image image mode=RGB size=48x48 at 0x7FCBC51359D0>"
            ]
          },
          "metadata": {
            "tags": []
          }
        },
        {
          "output_type": "stream",
          "text": [
            "predicted_label:anger\n"
          ],
          "name": "stdout"
        },
        {
          "output_type": "display_data",
          "data": {
            "image/png": "[encoded data removed]",
            "text/plain": [
              "<PIL.Image.Image image mode=RGB size=48x48 at 0x7FCBC5135610>"
            ]
          },
          "metadata": {
            "tags": []
          }
        },
        {
          "output_type": "stream",
          "text": [
            "predicted_label:anger\n"
          ],
          "name": "stdout"
        },
        {
          "output_type": "display_data",
          "data": {
            "image/png": "[encoded data removed]",
            "text/plain": [
              "<PIL.Image.Image image mode=RGB size=48x48 at 0x7FCBC51356D0>"
            ]
          },
          "metadata": {
            "tags": []
          }
        },
        {
          "output_type": "stream",
          "text": [
            "predicted_label:anger\n"
          ],
          "name": "stdout"
        },
        {
          "output_type": "display_data",
          "data": {
            "image/png": "[encoded data removed]",
            "text/plain": [
              "<PIL.Image.Image image mode=RGB size=48x48 at 0x7FCBC5135BD0>"
            ]
          },
          "metadata": {
            "tags": []
          }
        },
        {
          "output_type": "stream",
          "text": [
            "predicted_label:anger\n"
          ],
          "name": "stdout"
        },
        {
          "output_type": "display_data",
          "data": {
            "image/png": "[encoded data removed]",
            "text/plain": [
              "<PIL.Image.Image image mode=RGB size=48x48 at 0x7FCBC5135A10>"
            ]
          },
          "metadata": {
            "tags": []
          }
        },
        {
          "output_type": "stream",
          "text": [
            "predicted_label:anger\n"
          ],
          "name": "stdout"
        },
        {
          "output_type": "display_data",
          "data": {
            "image/png": "[encoded data removed]",
            "text/plain": [
              "<PIL.Image.Image image mode=RGB size=48x48 at 0x7FCCE32BF790>"
            ]
          },
          "metadata": {
            "tags": []
          }
        },
        {
          "output_type": "stream",
          "text": [
            "predicted_label:anger\n"
          ],
          "name": "stdout"
        },
        {
          "output_type": "display_data",
          "data": {
            "image/png": "[encoded data removed]",
            "text/plain": [
              "<PIL.Image.Image image mode=RGB size=48x48 at 0x7FCBC5135610>"
            ]
          },
          "metadata": {
            "tags": []
          }
        },
        {
          "output_type": "stream",
          "text": [
            "predicted_label:anger\n"
          ],
          "name": "stdout"
        },
        {
          "output_type": "display_data",
          "data": {
            "image/png": "[encoded data removed]",
            "text/plain": [
              "<PIL.Image.Image image mode=RGB size=48x48 at 0x7FCCE32BFFD0>"
            ]
          },
          "metadata": {
            "tags": []
          }
        },
        {
          "output_type": "stream",
          "text": [
            "predicted_label:anger\n"
          ],
          "name": "stdout"
        }
      ]
    },
    {
      "cell_type": "markdown",
      "metadata": {
        "id": "47-yTW1gqTHO"
      },
      "source": [
        "# Confusion Matrix"
      ]
    },
    {
      "cell_type": "code",
      "metadata": {
        "colab": {
          "base_uri": "https://localhost:8080/"
        },
        "id": "BTretg42JRkV",
        "outputId": "74a50a6d-0fe8-4c57-92d3-65eed6a47964"
      },
      "source": [
        "print(np.where(y_test == 1)[0])\n",
        "results = best_model(X_test)\n",
        "print(results)"
      ],
      "execution_count": 177,
      "outputs": [
        {
          "output_type": "stream",
          "text": [
            "[ 0  1  2  3  4  5  6  7  8  9 10 11 12 13 14 15 16 17 18 19]\n",
            "tf.Tensor(\n",
            "[[1.00000000e+00 9.34342714e-10 1.09462510e-08 8.88277082e-13\n",
            "  1.04237485e-12 8.80359452e-10 3.73691661e-10]\n",
            " [1.00000000e+00 6.12181028e-10 7.78295739e-09 5.13724805e-13\n",
            "  6.45935291e-13 5.78378845e-10 2.48550847e-10]\n",
            " [1.00000000e+00 6.20127127e-12 1.25421007e-10 1.06909301e-15\n",
            "  1.32512344e-15 5.59515238e-12 2.10019610e-12]\n",
            " [9.99999523e-01 4.91924048e-08 3.61125558e-07 1.76203163e-10\n",
            "  1.96471367e-10 4.70149928e-08 2.44760123e-08]\n",
            " [1.00000000e+00 5.29634323e-12 1.09766390e-10 8.55270343e-16\n",
            "  1.07135469e-15 4.81121263e-12 1.76506802e-12]\n",
            " [1.00000000e+00 3.30186746e-12 7.68585126e-11 4.87839097e-16\n",
            "  5.86205827e-16 3.07595919e-12 1.14516979e-12]\n",
            " [9.99967337e-01 4.74396757e-06 1.99832321e-05 8.15784063e-08\n",
            "  8.88284291e-08 4.72327383e-06 3.03043475e-06]\n",
            " [1.00000000e+00 3.25780999e-11 5.84677806e-10 9.56422933e-15\n",
            "  1.30264053e-14 3.17524930e-11 1.17815783e-11]\n",
            " [1.00000000e+00 1.05894293e-09 1.24339508e-08 1.07538544e-12\n",
            "  1.27688376e-12 1.03403974e-09 4.40458336e-10]\n",
            " [1.00000000e+00 2.31651906e-10 2.81808532e-09 1.25743450e-13\n",
            "  1.33279238e-13 2.21642441e-10 9.54997539e-11]\n",
            " [1.00000000e+00 1.41305939e-10 2.05141126e-09 7.14009066e-14\n",
            "  8.53024587e-14 1.29339622e-10 5.38938477e-11]\n",
            " [1.00000000e+00 3.53789303e-10 4.63431515e-09 2.64402514e-13\n",
            "  2.91160271e-13 3.34035882e-10 1.51348656e-10]\n",
            " [1.00000000e+00 4.06600881e-12 8.32250657e-11 5.74220999e-16\n",
            "  6.94330536e-16 3.59836987e-12 1.38092229e-12]\n",
            " [9.99999762e-01 2.83055677e-08 2.15831349e-07 8.72367248e-11\n",
            "  8.85716431e-11 2.72192242e-08 1.46638550e-08]\n",
            " [9.99998689e-01 1.64624979e-07 9.82443794e-07 8.97179220e-10\n",
            "  9.32356636e-10 1.66445318e-07 8.31627176e-08]\n",
            " [1.00000000e+00 4.25941421e-10 5.50900436e-09 3.46729562e-13\n",
            "  3.79967027e-13 3.99479894e-10 1.88696628e-10]\n",
            " [1.00000000e+00 9.52376844e-10 1.11248228e-08 9.21146080e-13\n",
            "  1.08714069e-12 8.86465734e-10 3.87699095e-10]\n",
            " [9.99999523e-01 4.90843419e-08 3.64344430e-07 1.77216325e-10\n",
            "  1.97141789e-10 4.70164245e-08 2.44604692e-08]\n",
            " [1.00000000e+00 1.12214786e-10 1.67945280e-09 5.36161149e-14\n",
            "  6.38200227e-14 1.08180104e-10 4.45104717e-11]\n",
            " [1.00000000e+00 7.96686328e-11 1.23299149e-09 3.50620513e-14\n",
            "  4.28348017e-14 7.91720717e-11 3.20520485e-11]], shape=(20, 7), dtype=float32)\n"
          ],
          "name": "stdout"
        }
      ]
    },
    {
      "cell_type": "code",
      "metadata": {
        "colab": {
          "base_uri": "https://localhost:8080/",
          "height": 1000
        },
        "id": "F4Nt1QHzqd_7",
        "outputId": "d1c27234-1dad-4dd6-ed8d-08028c7a28ed"
      },
      "source": [
        "from sklearn.metrics import confusion_matrix\n",
        "results = best_model(X_test)\n",
        "print(results)\n",
        "cm = confusion_matrix(np.where(y_test == 1)[0], results)\n",
        "#cm = cm.astype(np.float) / cm.sum(axis=1)[:, np.newaxis]\n",
        "\n",
        "import seaborn as sns\n",
        "import pandas as pd\n",
        "\n",
        "label_mapdisgust = ['anger','contempt','disgust','fear','happy','sadness','surprise']\n",
        "\n",
        "\n",
        "#Transform to df for easier plotting\n",
        "cm_df = pd.DataFrame(cm, index = label_mapdisgust,\n",
        "                     columns = label_mapdisgust\n",
        "                    )\n",
        "\n",
        "final_cm = cm_df\n",
        "\n",
        "\n",
        "final_cm\n",
        "\n",
        "\n",
        "plt.figure(figsize = (5,5))\n",
        "sns.heatmap(final_cm, annot = True,cmap='Greys',cbar=False,linewidth=2,fmt='d')\n",
        "plt.title('CNN Emotion Classify')\n",
        "plt.ylabel('True class')\n",
        "plt.xlabel('Prediction class')\n",
        "plt.show()\n"
      ],
      "execution_count": 180,
      "outputs": [
        {
          "output_type": "stream",
          "text": [
            "tf.Tensor(\n",
            "[[1.00000000e+00 9.34342714e-10 1.09462510e-08 8.88277082e-13\n",
            "  1.04237485e-12 8.80359452e-10 3.73691661e-10]\n",
            " [1.00000000e+00 6.12181028e-10 7.78295739e-09 5.13724805e-13\n",
            "  6.45935291e-13 5.78378845e-10 2.48550847e-10]\n",
            " [1.00000000e+00 6.20127127e-12 1.25421007e-10 1.06909301e-15\n",
            "  1.32512344e-15 5.59515238e-12 2.10019610e-12]\n",
            " [9.99999523e-01 4.91924048e-08 3.61125558e-07 1.76203163e-10\n",
            "  1.96471367e-10 4.70149928e-08 2.44760123e-08]\n",
            " [1.00000000e+00 5.29634323e-12 1.09766390e-10 8.55270343e-16\n",
            "  1.07135469e-15 4.81121263e-12 1.76506802e-12]\n",
            " [1.00000000e+00 3.30186746e-12 7.68585126e-11 4.87839097e-16\n",
            "  5.86205827e-16 3.07595919e-12 1.14516979e-12]\n",
            " [9.99967337e-01 4.74396757e-06 1.99832321e-05 8.15784063e-08\n",
            "  8.88284291e-08 4.72327383e-06 3.03043475e-06]\n",
            " [1.00000000e+00 3.25780999e-11 5.84677806e-10 9.56422933e-15\n",
            "  1.30264053e-14 3.17524930e-11 1.17815783e-11]\n",
            " [1.00000000e+00 1.05894293e-09 1.24339508e-08 1.07538544e-12\n",
            "  1.27688376e-12 1.03403974e-09 4.40458336e-10]\n",
            " [1.00000000e+00 2.31651906e-10 2.81808532e-09 1.25743450e-13\n",
            "  1.33279238e-13 2.21642441e-10 9.54997539e-11]\n",
            " [1.00000000e+00 1.41305939e-10 2.05141126e-09 7.14009066e-14\n",
            "  8.53024587e-14 1.29339622e-10 5.38938477e-11]\n",
            " [1.00000000e+00 3.53789303e-10 4.63431515e-09 2.64402514e-13\n",
            "  2.91160271e-13 3.34035882e-10 1.51348656e-10]\n",
            " [1.00000000e+00 4.06600881e-12 8.32250657e-11 5.74220999e-16\n",
            "  6.94330536e-16 3.59836987e-12 1.38092229e-12]\n",
            " [9.99999762e-01 2.83055677e-08 2.15831349e-07 8.72367248e-11\n",
            "  8.85716431e-11 2.72192242e-08 1.46638550e-08]\n",
            " [9.99998689e-01 1.64624979e-07 9.82443794e-07 8.97179220e-10\n",
            "  9.32356636e-10 1.66445318e-07 8.31627176e-08]\n",
            " [1.00000000e+00 4.25941421e-10 5.50900436e-09 3.46729562e-13\n",
            "  3.79967027e-13 3.99479894e-10 1.88696628e-10]\n",
            " [1.00000000e+00 9.52376844e-10 1.11248228e-08 9.21146080e-13\n",
            "  1.08714069e-12 8.86465734e-10 3.87699095e-10]\n",
            " [9.99999523e-01 4.90843419e-08 3.64344430e-07 1.77216325e-10\n",
            "  1.97141789e-10 4.70164245e-08 2.44604692e-08]\n",
            " [1.00000000e+00 1.12214786e-10 1.67945280e-09 5.36161149e-14\n",
            "  6.38200227e-14 1.08180104e-10 4.45104717e-11]\n",
            " [1.00000000e+00 7.96686328e-11 1.23299149e-09 3.50620513e-14\n",
            "  4.28348017e-14 7.91720717e-11 3.20520485e-11]], shape=(20, 7), dtype=float32)\n"
          ],
          "name": "stdout"
        },
        {
          "output_type": "error",
          "ename": "ValueError",
          "evalue": "ignored",
          "traceback": [
            "\u001b[0;31m---------------------------------------------------------------------------\u001b[0m",
            "\u001b[0;31mValueError\u001b[0m                                Traceback (most recent call last)",
            "\u001b[0;32m<ipython-input-180-d78f08194a13>\u001b[0m in \u001b[0;36m<module>\u001b[0;34m()\u001b[0m\n\u001b[1;32m      2\u001b[0m \u001b[0mresults\u001b[0m \u001b[0;34m=\u001b[0m \u001b[0mbest_model\u001b[0m\u001b[0;34m(\u001b[0m\u001b[0mX_test\u001b[0m\u001b[0;34m)\u001b[0m\u001b[0;34m\u001b[0m\u001b[0;34m\u001b[0m\u001b[0m\n\u001b[1;32m      3\u001b[0m \u001b[0mprint\u001b[0m\u001b[0;34m(\u001b[0m\u001b[0mresults\u001b[0m\u001b[0;34m)\u001b[0m\u001b[0;34m\u001b[0m\u001b[0;34m\u001b[0m\u001b[0m\n\u001b[0;32m----> 4\u001b[0;31m \u001b[0mcm\u001b[0m \u001b[0;34m=\u001b[0m \u001b[0mconfusion_matrix\u001b[0m\u001b[0;34m(\u001b[0m\u001b[0mnp\u001b[0m\u001b[0;34m.\u001b[0m\u001b[0mwhere\u001b[0m\u001b[0;34m(\u001b[0m\u001b[0my_test\u001b[0m \u001b[0;34m==\u001b[0m \u001b[0;36m1\u001b[0m\u001b[0;34m)\u001b[0m\u001b[0;34m[\u001b[0m\u001b[0;36m0\u001b[0m\u001b[0;34m]\u001b[0m\u001b[0;34m,\u001b[0m \u001b[0mresults\u001b[0m\u001b[0;34m)\u001b[0m\u001b[0;34m\u001b[0m\u001b[0;34m\u001b[0m\u001b[0m\n\u001b[0m\u001b[1;32m      5\u001b[0m \u001b[0;31m#cm = cm.astype(np.float) / cm.sum(axis=1)[:, np.newaxis]\u001b[0m\u001b[0;34m\u001b[0m\u001b[0;34m\u001b[0m\u001b[0;34m\u001b[0m\u001b[0m\n\u001b[1;32m      6\u001b[0m \u001b[0;34m\u001b[0m\u001b[0m\n",
            "\u001b[0;32m/usr/local/lib/python3.7/dist-packages/sklearn/metrics/_classification.py\u001b[0m in \u001b[0;36mconfusion_matrix\u001b[0;34m(y_true, y_pred, labels, sample_weight, normalize)\u001b[0m\n\u001b[1;32m    266\u001b[0m \u001b[0;34m\u001b[0m\u001b[0m\n\u001b[1;32m    267\u001b[0m     \"\"\"\n\u001b[0;32m--> 268\u001b[0;31m     \u001b[0my_type\u001b[0m\u001b[0;34m,\u001b[0m \u001b[0my_true\u001b[0m\u001b[0;34m,\u001b[0m \u001b[0my_pred\u001b[0m \u001b[0;34m=\u001b[0m \u001b[0m_check_targets\u001b[0m\u001b[0;34m(\u001b[0m\u001b[0my_true\u001b[0m\u001b[0;34m,\u001b[0m \u001b[0my_pred\u001b[0m\u001b[0;34m)\u001b[0m\u001b[0;34m\u001b[0m\u001b[0;34m\u001b[0m\u001b[0m\n\u001b[0m\u001b[1;32m    269\u001b[0m     \u001b[0;32mif\u001b[0m \u001b[0my_type\u001b[0m \u001b[0;32mnot\u001b[0m \u001b[0;32min\u001b[0m \u001b[0;34m(\u001b[0m\u001b[0;34m\"binary\"\u001b[0m\u001b[0;34m,\u001b[0m \u001b[0;34m\"multiclass\"\u001b[0m\u001b[0;34m)\u001b[0m\u001b[0;34m:\u001b[0m\u001b[0;34m\u001b[0m\u001b[0;34m\u001b[0m\u001b[0m\n\u001b[1;32m    270\u001b[0m         \u001b[0;32mraise\u001b[0m \u001b[0mValueError\u001b[0m\u001b[0;34m(\u001b[0m\u001b[0;34m\"%s is not supported\"\u001b[0m \u001b[0;34m%\u001b[0m \u001b[0my_type\u001b[0m\u001b[0;34m)\u001b[0m\u001b[0;34m\u001b[0m\u001b[0;34m\u001b[0m\u001b[0m\n",
            "\u001b[0;32m/usr/local/lib/python3.7/dist-packages/sklearn/metrics/_classification.py\u001b[0m in \u001b[0;36m_check_targets\u001b[0;34m(y_true, y_pred)\u001b[0m\n\u001b[1;32m     88\u001b[0m     \u001b[0;32mif\u001b[0m \u001b[0mlen\u001b[0m\u001b[0;34m(\u001b[0m\u001b[0my_type\u001b[0m\u001b[0;34m)\u001b[0m \u001b[0;34m>\u001b[0m \u001b[0;36m1\u001b[0m\u001b[0;34m:\u001b[0m\u001b[0;34m\u001b[0m\u001b[0;34m\u001b[0m\u001b[0m\n\u001b[1;32m     89\u001b[0m         raise ValueError(\"Classification metrics can't handle a mix of {0} \"\n\u001b[0;32m---> 90\u001b[0;31m                          \"and {1} targets\".format(type_true, type_pred))\n\u001b[0m\u001b[1;32m     91\u001b[0m \u001b[0;34m\u001b[0m\u001b[0m\n\u001b[1;32m     92\u001b[0m     \u001b[0;31m# We can't have more than one value on y_type => The set is no more needed\u001b[0m\u001b[0;34m\u001b[0m\u001b[0;34m\u001b[0m\u001b[0;34m\u001b[0m\u001b[0m\n",
            "\u001b[0;31mValueError\u001b[0m: Classification metrics can't handle a mix of multiclass and continuous-multioutput targets"
          ]
        }
      ]
    },
    {
      "cell_type": "markdown",
      "metadata": {
        "id": "4v06vrI3qvhd"
      },
      "source": [
        "# ROC Curve"
      ]
    },
    {
      "cell_type": "code",
      "metadata": {
        "id": "7v7tYrhSqzVx",
        "colab": {
          "base_uri": "https://localhost:8080/",
          "height": 687
        },
        "outputId": "c800fff2-6540-4ffe-e6d3-8eb8bd842284"
      },
      "source": [
        "final_label = ['anger','contempt','disgust','fear','happy','sadness','surprise']\n",
        "new_class = 7\n",
        "y_pred = best_model.predict(X_test)\n",
        "y_pred_ravel = y_pred.ravel()\n",
        "lw = 2\n",
        "\n",
        "fpr = dict()\n",
        "tpr = dict()\n",
        "roc_auc = dict()\n",
        "\n",
        "for i in range(new_class):\n",
        "    fpr[i], tpr[i], _ = roc_curve(y_test[:,i], y_pred[:,i])\n",
        "    roc_auc[i] = auc(fpr[i], tpr[i])\n",
        "    \n",
        "#colors = cycle(['red', 'green','black'])\n",
        "colors = cycle(['red', 'green','black','blue', 'yellow','purple','orange'])\n",
        "for i, color in zip(range(new_class), colors):\n",
        "    plt.plot(fpr[i], tpr[i], color=color, lw=lw,\n",
        "             label='ROC curve of class {0}'''.format(final_label[i]))\n",
        "    \n",
        "\n",
        "plt.plot([0, 1], [0, 1], 'k--', lw=lw)\n",
        "plt.xlim([0, 1.0])\n",
        "plt.ylim([0.0, 1.05])\n",
        "plt.xlabel('False Positive Rate')\n",
        "plt.ylabel('True Positive Rate')\n",
        "plt.title('Receiver Operating Characteristic')\n",
        "plt.legend(loc=\"lower right\")\n",
        "plt.show()"
      ],
      "execution_count": 164,
      "outputs": [
        {
          "output_type": "stream",
          "text": [
            "/usr/local/lib/python3.7/dist-packages/sklearn/metrics/_ranking.py:800: UndefinedMetricWarning: No negative samples in y_true, false positive value should be meaningless\n",
            "  UndefinedMetricWarning)\n",
            "/usr/local/lib/python3.7/dist-packages/sklearn/metrics/_ranking.py:808: UndefinedMetricWarning: No positive samples in y_true, true positive value should be meaningless\n",
            "  UndefinedMetricWarning)\n"
          ],
          "name": "stderr"
        },
        {
          "output_type": "display_data",
          "data": {
            "image/png": "[encoded data removed]",
            "text/plain": [
              "<Figure size 1440x720 with 1 Axes>"
            ]
          },
          "metadata": {
            "tags": [],
            "needs_background": "light"
          }
        }
      ]
    }
  ]
}