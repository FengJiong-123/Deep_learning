{
 "cells": [
  {
   "cell_type": "code",
   "execution_count": 6,
   "id": "empirical-demonstration",
   "metadata": {},
   "outputs": [
    {
     "name": "stdout",
     "output_type": "stream",
     "text": [
      "27243\n"
     ]
    }
   ],
   "source": [
    "import json\n",
    "import collections\n",
    "foodClass = {\"cheesecake\", \"mussels\", \"waffles\", \"pizza\", \"fried_rice\", \"dumplings\",  \"steak\", \"tacos\", \"donuts\", \"sushi\"}\n",
    "\n",
    "def photo_in_business(file) :\n",
    "    photoSet = set()\n",
    "    photoComment = dict()\n",
    "    with open(file) as json_file:\n",
    "        result = []\n",
    "        for line in json_file.readlines():\n",
    "            data = json.loads(line)\n",
    "            if data[\"label\"] == \"food\" and data[\"caption\"]:\n",
    "                photoSet.add(data[\"photo_id\"])\n",
    "                photoComment[data[\"photo_id\"]]= data[\"caption\"]\n",
    "    return photoComment\n",
    "\n",
    "\n",
    "photoComment = photo_in_business(file= './yelp_photos/photos.json')\n",
    "print(len(photoComment.keys()))\n",
    "with open(\"./foodComment.txt\", \"w\") as commentFile:\n",
    "    for food, comment in photoComment.items():\n",
    "        commentFile.write(food+\"\\t\")\n",
    "        comment = comment.replace(\"\\n\", \" \")\n",
    "        comment = comment.replace(\"\\r\", \" \")\n",
    "        comment = comment.replace(\"\\r\\n\", \" \")\n",
    "        commentFile.write(comment+\"\\n\")"
   ]
  },
  {
   "cell_type": "code",
   "execution_count": 7,
   "id": "distributed-crack",
   "metadata": {},
   "outputs": [
    {
     "name": "stdout",
     "output_type": "stream",
     "text": [
      "Food waffles, Numbers 259\n",
      "Food donuts, Numbers 125\n",
      "Food tacos, Numbers 635\n",
      "Food steak, Numbers 488\n",
      "Food pizza, Numbers 530\n",
      "Food sushi, Numbers 198\n",
      "Food fried_rice, Numbers 186\n",
      "Food dumplings, Numbers 171\n",
      "Food cheesecake, Numbers 133\n",
      "Food mussels, Numbers 106\n"
     ]
    }
   ],
   "source": [
    "\n",
    "photoIdInEachClass = collections.defaultdict(list)\n",
    "with open(\"./foodComment.txt\") as commentFile:\n",
    "    for line in commentFile.readlines():\n",
    "        if not line:\n",
    "            continue            \n",
    "        result = line.split()\n",
    "        photoId = result[0]\n",
    "        comment = \" \".join(result[1:])\n",
    "        for character in \",.!:@&-/()+?\":\n",
    "            comment = comment.replace(character, \" \")       \n",
    "        words = comment.split()\n",
    "        words = [word.lower() for word in words]\n",
    " \n",
    "        if \"fried\" in words and \"rice\" in words:\n",
    "            photoIdInEachClass[\"fried_rice\"].append(photoId)\n",
    "            continue\n",
    "        for word in words:\n",
    "            if len(word)<2:\n",
    "                continue\n",
    "            wordminuss = word[:len(word)-1]\n",
    "            wordpluss = word + \"s\"\n",
    "            if word in foodClass:\n",
    "                photoIdInEachClass[word.lower()].append(photoId)\n",
    "            elif wordpluss in foodClass:\n",
    "                photoIdInEachClass[wordpluss.lower()].append(photoId)\n",
    "            elif wordminuss in foodClass:\n",
    "                photoIdInEachClass[wordminuss.lower()].append(photoId)\n",
    "    \n",
    "for foodName, photos in photoIdInEachClass.items():\n",
    "    print(\"Food %s, Numbers %d\"%(foodName,len(photos)))\n",
    "\n",
    "xLabels = photoIdInEachClass.keys()\n",
    "x = range(len(xLabels))\n",
    "y = [len(photoList) for photoList in  photoIdInEachClass.values()]"
   ]
  },
  {
   "cell_type": "code",
   "execution_count": 16,
   "id": "invalid-april",
   "metadata": {},
   "outputs": [
    {
     "name": "stdout",
     "output_type": "stream",
     "text": [
      "Food  pizza\n",
      "Copying Finished!\n",
      "Food  donuts\n",
      "Copying Finished!\n",
      "Food  mussels\n",
      "Copying Finished!\n",
      "Food  dumplings\n",
      "Copying Finished!\n",
      "Food  tacos\n",
      "Copying Finished!\n",
      "Food  steak\n",
      "Copying Finished!\n",
      "Food  cheesecake\n",
      "Copying Finished!\n",
      "Food  fried_rice\n",
      "Copying Finished!\n",
      "Food  waffles\n",
      "Copying Finished!\n",
      "Food  sushi\n",
      "Copying Finished!\n"
     ]
    }
   ],
   "source": [
    "import os\n",
    "from shutil import copy\n",
    "import random\n",
    "\n",
    "\n",
    "def prepare_data(food, src,dest):\n",
    "    print(\"Food \", food)\n",
    "    if not os.path.exists(os.path.join(dest,food)):\n",
    "        os.makedirs(os.path.join(dest,food))\n",
    "        \n",
    "    for photoId in photoIdInEachClass[food]:\n",
    "        path = os.path.join(dest, food)\n",
    "        if len(os.listdir(path)) == 100:\n",
    "            break\n",
    "        photoId = photoId+\".jpg\"\n",
    "        copy(os.path.join(src, photoId),os.path.join(dest, food, photoId))\n",
    "    print(\"Copying Finished!\")\n",
    "             \n",
    "for food in foodClass:\n",
    "    prepare_data(food, \"./yelp_photos/photos\", \"./cleaned_data\")"
   ]
  },
  {
   "cell_type": "code",
   "execution_count": null,
   "id": "resistant-universal",
   "metadata": {},
   "outputs": [],
   "source": []
  },
  {
   "cell_type": "code",
   "execution_count": null,
   "id": "mental-table",
   "metadata": {},
   "outputs": [],
   "source": []
  },
  {
   "cell_type": "code",
   "execution_count": null,
   "id": "fantastic-prayer",
   "metadata": {},
   "outputs": [],
   "source": []
  }
 ],
 "metadata": {
  "kernelspec": {
   "display_name": "Python 3",
   "language": "python",
   "name": "python3"
  },
  "language_info": {
   "codemirror_mode": {
    "name": "ipython",
    "version": 3
   },
   "file_extension": ".py",
   "mimetype": "text/x-python",
   "name": "python",
   "nbconvert_exporter": "python",
   "pygments_lexer": "ipython3",
   "version": "3.9.2"
  }
 },
 "nbformat": 4,
 "nbformat_minor": 5
}
