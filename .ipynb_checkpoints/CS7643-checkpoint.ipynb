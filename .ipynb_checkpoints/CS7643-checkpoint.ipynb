{
 "cells": [
  {
   "cell_type": "markdown",
   "metadata": {
    "id": "wNpZe0-QqzF1"
   },
   "source": [
    "\n",
    "# Libraries\n",
    "\n"
   ]
  },
  {
   "cell_type": "code",
   "execution_count": 1,
   "metadata": {
    "id": "2ZKL6nKYq0fp"
   },
   "outputs": [],
   "source": [
    "import numpy as np\n",
    "import random\n",
    "import pandas as pd\n",
    "import os,cv2\n",
    "import numpy as np\n",
    "import matplotlib.pyplot as plt\n",
    "import matplotlib.image as mpimg\n",
    "from pylab import rcParams\n",
    "import seaborn as sns\n",
    "import pandas as pd\n",
    "from google.colab.patches import cv2_imshow\n",
    "rcParams['figure.figsize'] = 20, 10\n",
    "from sklearn.utils import shuffle\n",
    "from sklearn.model_selection import train_test_split\n",
    "import keras\n",
    "from keras.utils import np_utils\n",
    "from keras.models import Sequential\n",
    "from keras.layers import Dense , Activation , Dropout ,Flatten\n",
    "from keras.layers.convolutional import Conv2D\n",
    "from keras.layers.convolutional import MaxPooling2D\n",
    "from keras.metrics import categorical_accuracy\n",
    "from keras.models import model_from_json\n",
    "from keras.callbacks import ModelCheckpoint\n",
    "from keras.optimizers import *\n",
    "from keras.layers.normalization import BatchNormalization\n",
    "from keras.wrappers.scikit_learn import KerasClassifier\n",
    "from sklearn.model_selection import cross_val_score, cross_val_predict\n",
    "from sklearn.datasets import make_classification\n",
    "from keras.callbacks import EarlyStopping, ModelCheckpoint, ReduceLROnPlateau\n",
    "from sklearn.metrics import roc_curve,auc\n",
    "from itertools import cycle"
   ]
  },
  {
   "cell_type": "code",
   "execution_count": 2,
   "metadata": {
    "colab": {
     "base_uri": "https://localhost:8080/"
    },
    "id": "-M5k9JFMhq6G",
    "outputId": "c86512dc-caab-4ea9-bae3-305aacf7aa69"
   },
   "outputs": [
    {
     "name": "stdout",
     "output_type": "stream",
     "text": [
      "['happy', 'contempt', 'fear', 'surprise', 'sadness', 'anger', 'disgust']\n"
     ]
    }
   ],
   "source": [
    "import os\n",
    "print(os.listdir(\"./drive/MyDrive/CK+48\"))"
   ]
  },
  {
   "cell_type": "markdown",
   "metadata": {
    "id": "4QtapJhSreCF"
   },
   "source": [
    "# Extracting images from directory"
   ]
  },
  {
   "cell_type": "code",
   "execution_count": 3,
   "metadata": {
    "colab": {
     "base_uri": "https://localhost:8080/"
    },
    "id": "z7rBCVZ0rgjq",
    "outputId": "9be21761-a7b7-4a9f-d29e-50b71631b0c7"
   },
   "outputs": [
    {
     "name": "stdout",
     "output_type": "stream",
     "text": [
      "Succed to Load the images of dataset-happy\n",
      "\n",
      "Succed to Load the images of dataset-contempt\n",
      "\n",
      "Succed to Load the images of dataset-fear\n",
      "\n",
      "Succed to Load the images of dataset-surprise\n",
      "\n",
      "Succed to Load the images of dataset-sadness\n",
      "\n",
      "Succed to Load the images of dataset-anger\n",
      "\n",
      "Succed to Load the images of dataset-disgust\n",
      "\n"
     ]
    },
    {
     "data": {
      "text/plain": [
       "(981, 48, 48, 3)"
      ]
     },
     "execution_count": 3,
     "metadata": {
      "tags": []
     },
     "output_type": "execute_result"
    }
   ],
   "source": [
    "data_path = './drive/MyDrive/CK+48'\n",
    "data_dir_list = os.listdir(data_path)\n",
    "\n",
    "img_data_list=[]\n",
    "\n",
    "for dataset in data_dir_list:\n",
    "    img_list=os.listdir(data_path+'/'+ dataset)\n",
    "    print ('Succed to Load the images of dataset-'+'{}\\n'.format(dataset))\n",
    "    for img in img_list:\n",
    "        input_img=cv2.imread(data_path + '/'+ dataset + '/'+ img )\n",
    "        input_img_resize=cv2.resize(input_img,(48,48))\n",
    "        img_data_list.append(input_img_resize)\n",
    "        \n",
    "img_data = np.array(img_data_list)\n",
    "img_data = img_data.astype('float32')\n",
    "\n",
    "img_data = img_data/255\n",
    "img_data.shape"
   ]
  },
  {
   "cell_type": "markdown",
   "metadata": {
    "id": "Qn4ixExQ0kE3"
   },
   "source": [
    "## Show examples of the import picture\n"
   ]
  },
  {
   "cell_type": "markdown",
   "metadata": {
    "id": "hG_2_Jbu20UK"
   },
   "source": [
    "## Show Examples of the Picture\n",
    "\n",
    "We want to make sure that the photos are loaded sucessfully\n"
   ]
  },
  {
   "cell_type": "code",
   "execution_count": 4,
   "metadata": {
    "colab": {
     "base_uri": "https://localhost:8080/",
     "height": 147
    },
    "id": "bWJNbyT-1oY2",
    "outputId": "cd9b5374-ac2c-49ae-ee52-5d4db62f4d0c"
   },
   "outputs": [
    {
     "data": {
      "image/png": "[encoded data removed]",
      "text/plain": [
       "<PIL.Image.Image image mode=RGB size=48x48 at 0x7F33CDFEB090>"
      ]
     },
     "metadata": {
      "tags": []
     },
     "output_type": "display_data"
    },
    {
     "name": "stdout",
     "output_type": "stream",
     "text": [
      "(48, 48, 3)\n",
      "(48, 48, 3)\n"
     ]
    },
    {
     "data": {
      "image/png": "[encoded data removed]",
      "text/plain": [
       "<PIL.Image.Image image mode=RGB size=48x48 at 0x7F33CDF6D490>"
      ]
     },
     "metadata": {
      "tags": []
     },
     "output_type": "display_data"
    }
   ],
   "source": [
    "cv2_imshow(img_data_list[0])\n",
    "print(img_data_list[0].shape)\n",
    "print(img_data[0].shape)\n",
    "cv2_imshow(img_data[0]*255)"
   ]
  },
  {
   "cell_type": "markdown",
   "metadata": {
    "id": "neck5Wc9rk2L"
   },
   "source": [
    "# Putting label in data¶\n"
   ]
  },
  {
   "cell_type": "code",
   "execution_count": 5,
   "metadata": {
    "id": "ON7uMyg0rl8M"
   },
   "outputs": [],
   "source": [
    "num_classes = 7\n",
    "\n",
    "num_of_samples = img_data.shape[0]\n",
    "labels = np.ones((num_of_samples,),dtype='int64')\n",
    "\n",
    "labels[0:134]=0 #135\n",
    "labels[135:188]=1 #54\n",
    "labels[189:365]=2 #177\n",
    "labels[366:440]=3 #75\n",
    "labels[441:647]=4 #207\n",
    "labels[648:731]=5 #84\n",
    "labels[732:980]=6 #249\n",
    "\n",
    "index_to_labels = ['anger','contempt','disgust','fear','happy','sadness','surprise']\n",
    "\n",
    "def getLabelByIndex(i):\n",
    "    return index_to_labels[i]"
   ]
  },
  {
   "cell_type": "markdown",
   "metadata": {
    "id": "_-DTWgDTro9S"
   },
   "source": [
    "# Dataset Overview"
   ]
  },
  {
   "cell_type": "code",
   "execution_count": 6,
   "metadata": {
    "colab": {
     "base_uri": "https://localhost:8080/",
     "height": 497
    },
    "id": "rE53rDzrwIX-",
    "outputId": "c5ee7ed8-381b-46d1-ebb4-a0bf5fd89239"
   },
   "outputs": [
    {
     "data": {
      "image/png": "[encoded data removed]",
      "text/plain": [
       "<PIL.Image.Image image mode=RGB size=48x48 at 0x7F33CDF6DF10>"
      ]
     },
     "metadata": {
      "tags": []
     },
     "output_type": "display_data"
    },
    {
     "data": {
      "image/png": "[encoded data removed]",
      "text/plain": [
       "<PIL.Image.Image image mode=RGB size=48x48 at 0x7F33CDF6D9D0>"
      ]
     },
     "metadata": {
      "tags": []
     },
     "output_type": "display_data"
    },
    {
     "data": {
      "image/png": "[encoded data removed]",
      "text/plain": [
       "<PIL.Image.Image image mode=RGB size=48x48 at 0x7F33CDF6DF90>"
      ]
     },
     "metadata": {
      "tags": []
     },
     "output_type": "display_data"
    },
    {
     "data": {
      "image/png": "[encoded data removed]",
      "text/plain": [
       "<PIL.Image.Image image mode=RGB size=48x48 at 0x7F33CDF6D690>"
      ]
     },
     "metadata": {
      "tags": []
     },
     "output_type": "display_data"
    },
    {
     "data": {
      "image/png": "[encoded data removed]",
      "text/plain": [
       "<PIL.Image.Image image mode=RGB size=48x48 at 0x7F33CDF6DF50>"
      ]
     },
     "metadata": {
      "tags": []
     },
     "output_type": "display_data"
    },
    {
     "data": {
      "image/png": "[encoded data removed]",
      "text/plain": [
       "<PIL.Image.Image image mode=RGB size=48x48 at 0x7F33CDF6D710>"
      ]
     },
     "metadata": {
      "tags": []
     },
     "output_type": "display_data"
    },
    {
     "data": {
      "image/png": "[encoded data removed]",
      "text/plain": [
       "<PIL.Image.Image image mode=RGB size=48x48 at 0x7F33CDF6D690>"
      ]
     },
     "metadata": {
      "tags": []
     },
     "output_type": "display_data"
    },
    {
     "data": {
      "image/png": "[encoded data removed]",
      "text/plain": [
       "<PIL.Image.Image image mode=RGB size=48x48 at 0x7F33CDF6DF50>"
      ]
     },
     "metadata": {
      "tags": []
     },
     "output_type": "display_data"
    },
    {
     "data": {
      "image/png": "[encoded data removed]",
      "text/plain": [
       "<PIL.Image.Image image mode=RGB size=48x48 at 0x7F33CDF6D690>"
      ]
     },
     "metadata": {
      "tags": []
     },
     "output_type": "display_data"
    },
    {
     "data": {
      "image/png": "[encoded data removed]",
      "text/plain": [
       "<PIL.Image.Image image mode=RGB size=48x48 at 0x7F33CDF6D710>"
      ]
     },
     "metadata": {
      "tags": []
     },
     "output_type": "display_data"
    }
   ],
   "source": [
    "for i in range(10):\n",
    "  cv2_imshow(img_data[i] * 255)\n"
   ]
  },
  {
   "cell_type": "markdown",
   "metadata": {
    "id": "LQw0pnSnr863"
   },
   "source": [
    "# Creating Model\n"
   ]
  },
  {
   "cell_type": "code",
   "execution_count": 7,
   "metadata": {
    "id": "LzJr_yPgr-1X"
   },
   "outputs": [],
   "source": [
    "def create_model(learning_rate):\n",
    "    input_shape=(48,48,3)\n",
    "\n",
    "    model = Sequential()\n",
    "    model.add(Conv2D(6, (5, 5), input_shape=input_shape, padding='same', activation = 'relu'))\n",
    "    model.add(MaxPooling2D(pool_size=(2, 2)))\n",
    "\n",
    "    model.add(Conv2D(16, (5, 5), padding='same', activation = 'relu'))\n",
    "    model.add(Activation('relu'))\n",
    "    model.add(MaxPooling2D(pool_size=(2, 2)))\n",
    "\n",
    "    model.add(Conv2D(64, (3, 3), activation = 'relu'))\n",
    "    model.add(MaxPooling2D(pool_size=(2, 2)))\n",
    "\n",
    "    model.add(Flatten())\n",
    "    model.add(Dense(128, activation = 'relu'))\n",
    "    model.add(Dropout(0.5))\n",
    "    model.add(Dense(7, activation = 'softmax'))\n",
    "\n",
    "    model.compile(loss='categorical_crossentropy', metrics=['accuracy'],optimizer= keras.optimizers.SGD(lr = learning_rate))\n",
    "    \n",
    "    return model"
   ]
  },
  {
   "cell_type": "markdown",
   "metadata": {
    "id": "XAxa_SuRsQNL"
   },
   "source": [
    "\n",
    "# Model Summary"
   ]
  },
  {
   "cell_type": "code",
   "execution_count": 8,
   "metadata": {
    "colab": {
     "base_uri": "https://localhost:8080/"
    },
    "id": "xQ5weE5msdQQ",
    "outputId": "31192bae-877a-4b93-f361-49ed646fbb5e"
   },
   "outputs": [
    {
     "name": "stdout",
     "output_type": "stream",
     "text": [
      "Model: \"sequential\"\n",
      "_________________________________________________________________\n",
      "Layer (type)                 Output Shape              Param #   \n",
      "=================================================================\n",
      "conv2d (Conv2D)              (None, 48, 48, 6)         456       \n",
      "_________________________________________________________________\n",
      "max_pooling2d (MaxPooling2D) (None, 24, 24, 6)         0         \n",
      "_________________________________________________________________\n",
      "conv2d_1 (Conv2D)            (None, 24, 24, 16)        2416      \n",
      "_________________________________________________________________\n",
      "activation (Activation)      (None, 24, 24, 16)        0         \n",
      "_________________________________________________________________\n",
      "max_pooling2d_1 (MaxPooling2 (None, 12, 12, 16)        0         \n",
      "_________________________________________________________________\n",
      "conv2d_2 (Conv2D)            (None, 10, 10, 64)        9280      \n",
      "_________________________________________________________________\n",
      "max_pooling2d_2 (MaxPooling2 (None, 5, 5, 64)          0         \n",
      "_________________________________________________________________\n",
      "flatten (Flatten)            (None, 1600)              0         \n",
      "_________________________________________________________________\n",
      "dense (Dense)                (None, 128)               204928    \n",
      "_________________________________________________________________\n",
      "dropout (Dropout)            (None, 128)               0         \n",
      "_________________________________________________________________\n",
      "dense_1 (Dense)              (None, 7)                 903       \n",
      "=================================================================\n",
      "Total params: 217,983\n",
      "Trainable params: 217,983\n",
      "Non-trainable params: 0\n",
      "_________________________________________________________________\n"
     ]
    }
   ],
   "source": [
    "learning_rate = 0.01\n",
    "\n",
    "model_custom = create_model(learning_rate)\n",
    "model_custom.summary()"
   ]
  },
  {
   "cell_type": "markdown",
   "metadata": {
    "id": "R2OziMnRsbOz"
   },
   "source": [
    "# Model Visualization "
   ]
  },
  {
   "cell_type": "code",
   "execution_count": 9,
   "metadata": {
    "colab": {
     "base_uri": "https://localhost:8080/",
     "height": 1000
    },
    "id": "wEamr24YimSm",
    "outputId": "0696ca23-bf6b-4cd6-9183-a6733392163d"
   },
   "outputs": [
    {
     "data": {
      "image/png": "[encoded data removed]",
      "text/plain": [
       "<IPython.core.display.Image object>"
      ]
     },
     "execution_count": 9,
     "metadata": {
      "tags": []
     },
     "output_type": "execute_result"
    }
   ],
   "source": [
    "from keras.utils import plot_model\n",
    "plot_model(model_custom, to_file='model.png')"
   ]
  },
  {
   "cell_type": "markdown",
   "metadata": {
    "id": "7vpzu8QRi5GA"
   },
   "source": [
    "# Training Model"
   ]
  },
  {
   "cell_type": "code",
   "execution_count": 10,
   "metadata": {
    "id": "vFRCWoDXi7Ta"
   },
   "outputs": [],
   "source": [
    "learning_rate = 0.01\n",
    "batch_size = 3\n",
    "EPOCHS = 50\n",
    "if not os.path.exists(\"model\"):\n",
    "  os.makedirs(\"model\")\n"
   ]
  },
  {
   "cell_type": "code",
   "execution_count": 11,
   "metadata": {
    "id": "xfd9KmmES-r8"
   },
   "outputs": [],
   "source": [
    "Y = np_utils.to_categorical(labels, num_classes)\n",
    "\n",
    "x,y = shuffle(img_data,Y, random_state=2)\n",
    "X_train, X_test, y_train, y_test = train_test_split(x, y, test_size=0.4, random_state=2)"
   ]
  },
  {
   "cell_type": "code",
   "execution_count": 13,
   "metadata": {
    "colab": {
     "base_uri": "https://localhost:8080/"
    },
    "id": "UoTsWIpMi9vH",
    "outputId": "39d36f02-78aa-4e77-9999-db5d4db9b5f7"
   },
   "outputs": [
    {
     "name": "stdout",
     "output_type": "stream",
     "text": [
      "Epoch 1/50\n",
      "196/196 [==============================] - 2s 6ms/step - loss: 1.9094 - accuracy: 0.1714 - val_loss: 1.8371 - val_accuracy: 0.3613\n",
      "Epoch 2/50\n",
      "196/196 [==============================] - 1s 5ms/step - loss: 1.8647 - accuracy: 0.2522 - val_loss: 1.7856 - val_accuracy: 0.4097\n",
      "Epoch 3/50\n",
      "196/196 [==============================] - 1s 5ms/step - loss: 1.7752 - accuracy: 0.3164 - val_loss: 1.6140 - val_accuracy: 0.5318\n",
      "Epoch 4/50\n",
      "196/196 [==============================] - 1s 5ms/step - loss: 1.5522 - accuracy: 0.4551 - val_loss: 1.2844 - val_accuracy: 0.5013\n",
      "Epoch 5/50\n",
      "196/196 [==============================] - 1s 5ms/step - loss: 1.4375 - accuracy: 0.4502 - val_loss: 1.2129 - val_accuracy: 0.5522\n",
      "Epoch 6/50\n",
      "196/196 [==============================] - 1s 5ms/step - loss: 1.1868 - accuracy: 0.5577 - val_loss: 1.1753 - val_accuracy: 0.4656\n",
      "Epoch 7/50\n",
      "196/196 [==============================] - 1s 5ms/step - loss: 1.1734 - accuracy: 0.5513 - val_loss: 1.0946 - val_accuracy: 0.5827\n",
      "Epoch 8/50\n",
      "196/196 [==============================] - 1s 5ms/step - loss: 1.1039 - accuracy: 0.5810 - val_loss: 0.9822 - val_accuracy: 0.6158\n",
      "Epoch 9/50\n",
      "196/196 [==============================] - 1s 5ms/step - loss: 1.0298 - accuracy: 0.5881 - val_loss: 1.0296 - val_accuracy: 0.5776\n",
      "Epoch 10/50\n",
      "196/196 [==============================] - 1s 5ms/step - loss: 0.9281 - accuracy: 0.6109 - val_loss: 0.9511 - val_accuracy: 0.6590\n",
      "Epoch 11/50\n",
      "196/196 [==============================] - 1s 5ms/step - loss: 0.9092 - accuracy: 0.6697 - val_loss: 0.9235 - val_accuracy: 0.6132\n",
      "Epoch 12/50\n",
      "196/196 [==============================] - 1s 5ms/step - loss: 0.8999 - accuracy: 0.6317 - val_loss: 0.8285 - val_accuracy: 0.6539\n",
      "Epoch 13/50\n",
      "196/196 [==============================] - 1s 5ms/step - loss: 0.8319 - accuracy: 0.6496 - val_loss: 0.8428 - val_accuracy: 0.6845\n",
      "Epoch 14/50\n",
      "196/196 [==============================] - 1s 5ms/step - loss: 0.7593 - accuracy: 0.6864 - val_loss: 0.7705 - val_accuracy: 0.7099\n",
      "Epoch 15/50\n",
      "196/196 [==============================] - 1s 5ms/step - loss: 0.7425 - accuracy: 0.6699 - val_loss: 0.8005 - val_accuracy: 0.6896\n",
      "Epoch 16/50\n",
      "196/196 [==============================] - 1s 5ms/step - loss: 0.7563 - accuracy: 0.6613 - val_loss: 0.9096 - val_accuracy: 0.7048\n",
      "Epoch 17/50\n",
      "196/196 [==============================] - 1s 5ms/step - loss: 0.6238 - accuracy: 0.7254 - val_loss: 0.7906 - val_accuracy: 0.7074\n",
      "Epoch 18/50\n",
      "196/196 [==============================] - 1s 5ms/step - loss: 0.6873 - accuracy: 0.7112 - val_loss: 0.7432 - val_accuracy: 0.7201\n",
      "Epoch 19/50\n",
      "196/196 [==============================] - 1s 5ms/step - loss: 0.6362 - accuracy: 0.7434 - val_loss: 0.7177 - val_accuracy: 0.7277\n",
      "Epoch 20/50\n",
      "196/196 [==============================] - 1s 5ms/step - loss: 0.5850 - accuracy: 0.7649 - val_loss: 0.7337 - val_accuracy: 0.7252\n",
      "Epoch 21/50\n",
      "196/196 [==============================] - 1s 5ms/step - loss: 0.6065 - accuracy: 0.7386 - val_loss: 0.6986 - val_accuracy: 0.7379\n",
      "Epoch 22/50\n",
      "196/196 [==============================] - 1s 5ms/step - loss: 0.5342 - accuracy: 0.7593 - val_loss: 0.7206 - val_accuracy: 0.7379\n",
      "Epoch 23/50\n",
      "196/196 [==============================] - 1s 5ms/step - loss: 0.5639 - accuracy: 0.7556 - val_loss: 0.7196 - val_accuracy: 0.7303\n",
      "Epoch 24/50\n",
      "196/196 [==============================] - 1s 5ms/step - loss: 0.4694 - accuracy: 0.8179 - val_loss: 0.7469 - val_accuracy: 0.7608\n",
      "Epoch 25/50\n",
      "196/196 [==============================] - 1s 5ms/step - loss: 0.5043 - accuracy: 0.8150 - val_loss: 0.7197 - val_accuracy: 0.7354\n",
      "Epoch 26/50\n",
      "196/196 [==============================] - 1s 5ms/step - loss: 0.5670 - accuracy: 0.7634 - val_loss: 0.6974 - val_accuracy: 0.7659\n",
      "Epoch 27/50\n",
      "196/196 [==============================] - 1s 5ms/step - loss: 0.4500 - accuracy: 0.8264 - val_loss: 0.7549 - val_accuracy: 0.7354\n",
      "Epoch 28/50\n",
      "196/196 [==============================] - 1s 5ms/step - loss: 0.4797 - accuracy: 0.8163 - val_loss: 0.7439 - val_accuracy: 0.7583\n",
      "Epoch 29/50\n",
      "196/196 [==============================] - 1s 5ms/step - loss: 0.3926 - accuracy: 0.8440 - val_loss: 0.7686 - val_accuracy: 0.7354\n",
      "Epoch 30/50\n",
      "196/196 [==============================] - 1s 5ms/step - loss: 0.4029 - accuracy: 0.8076 - val_loss: 0.6810 - val_accuracy: 0.7634\n",
      "Epoch 31/50\n",
      "196/196 [==============================] - 1s 5ms/step - loss: 0.4276 - accuracy: 0.8495 - val_loss: 0.7686 - val_accuracy: 0.7659\n",
      "Epoch 32/50\n",
      "196/196 [==============================] - 1s 5ms/step - loss: 0.3968 - accuracy: 0.8320 - val_loss: 0.7456 - val_accuracy: 0.7710\n",
      "Epoch 33/50\n",
      "196/196 [==============================] - 1s 5ms/step - loss: 0.4217 - accuracy: 0.8236 - val_loss: 0.8958 - val_accuracy: 0.7379\n",
      "Epoch 34/50\n",
      "196/196 [==============================] - 1s 5ms/step - loss: 0.3489 - accuracy: 0.8690 - val_loss: 0.7246 - val_accuracy: 0.7608\n",
      "Epoch 35/50\n",
      "196/196 [==============================] - 1s 5ms/step - loss: 0.4067 - accuracy: 0.8239 - val_loss: 0.8063 - val_accuracy: 0.7634\n",
      "Epoch 36/50\n",
      "196/196 [==============================] - 1s 5ms/step - loss: 0.4126 - accuracy: 0.8447 - val_loss: 1.2163 - val_accuracy: 0.7150\n",
      "Epoch 37/50\n",
      "196/196 [==============================] - 1s 5ms/step - loss: 0.3800 - accuracy: 0.8524 - val_loss: 0.7634 - val_accuracy: 0.7481\n",
      "Epoch 38/50\n",
      "196/196 [==============================] - 1s 5ms/step - loss: 0.3203 - accuracy: 0.8786 - val_loss: 0.9036 - val_accuracy: 0.7379\n",
      "Epoch 39/50\n",
      "196/196 [==============================] - 1s 5ms/step - loss: 0.3209 - accuracy: 0.8802 - val_loss: 0.8289 - val_accuracy: 0.7379\n",
      "Epoch 40/50\n",
      "196/196 [==============================] - 1s 5ms/step - loss: 0.3543 - accuracy: 0.8459 - val_loss: 0.9235 - val_accuracy: 0.7583\n",
      "Epoch 41/50\n",
      "196/196 [==============================] - 1s 5ms/step - loss: 0.2971 - accuracy: 0.8779 - val_loss: 0.9375 - val_accuracy: 0.7659\n",
      "Epoch 42/50\n",
      "196/196 [==============================] - 1s 5ms/step - loss: 0.3692 - accuracy: 0.8503 - val_loss: 0.8445 - val_accuracy: 0.7379\n",
      "Epoch 43/50\n",
      "196/196 [==============================] - 1s 5ms/step - loss: 0.2432 - accuracy: 0.9074 - val_loss: 0.8624 - val_accuracy: 0.7506\n",
      "Epoch 44/50\n",
      "196/196 [==============================] - 1s 5ms/step - loss: 0.2967 - accuracy: 0.8897 - val_loss: 0.8956 - val_accuracy: 0.7684\n",
      "Epoch 45/50\n",
      "196/196 [==============================] - 1s 5ms/step - loss: 0.3052 - accuracy: 0.8652 - val_loss: 0.9525 - val_accuracy: 0.7506\n",
      "Epoch 46/50\n",
      "196/196 [==============================] - 1s 5ms/step - loss: 0.3473 - accuracy: 0.8516 - val_loss: 0.9992 - val_accuracy: 0.7532\n",
      "Epoch 47/50\n",
      "196/196 [==============================] - 1s 5ms/step - loss: 0.2556 - accuracy: 0.8925 - val_loss: 0.8568 - val_accuracy: 0.7761\n",
      "Epoch 48/50\n",
      "196/196 [==============================] - 1s 5ms/step - loss: 0.2552 - accuracy: 0.9010 - val_loss: 1.0015 - val_accuracy: 0.7430\n",
      "Epoch 49/50\n",
      "196/196 [==============================] - 1s 5ms/step - loss: 0.2767 - accuracy: 0.8900 - val_loss: 0.9757 - val_accuracy: 0.7710\n",
      "Epoch 50/50\n",
      "196/196 [==============================] - 1s 5ms/step - loss: 0.2528 - accuracy: 0.8681 - val_loss: 0.9195 - val_accuracy: 0.7557\n"
     ]
    }
   ],
   "source": [
    "file_path = \"./models/trained_model.hdf5\"\n",
    "checkpoint = ModelCheckpoint(file_path, monitor='loss', verbose=0, save_best_only=True, mode='min')\n",
    "early = EarlyStopping(monitor=\"loss\", mode=\"min\", patience=8)\n",
    "\n",
    "callbacks_list = [checkpoint, early]\n",
    "\n",
    "model = create_model(learning_rate)\n",
    "hist = model.fit(X_train, y_train, batch_size = batch_size, epochs= EPOCHS, validation_data=(X_test, y_test), verbose=1)    \n",
    "score = model.evaluate(X_test, y_test, verbose=0)"
   ]
  },
  {
   "cell_type": "markdown",
   "metadata": {
    "id": "ztsBK0s7pltf"
   },
   "source": [
    "# Evaluating model\n"
   ]
  },
  {
   "cell_type": "markdown",
   "metadata": {
    "id": "wnEtPd6xX5fX"
   },
   "source": [
    "## Pick 10 random pictures and compare the predicted result with the expected *behavior*"
   ]
  },
  {
   "cell_type": "code",
   "execution_count": null,
   "metadata": {
    "id": "ZLb_h5Dmp_sX"
   },
   "outputs": [],
   "source": [
    "score = best_model.evaluate(X_test, y_test, verbose=0)\n",
    "print('Test Loss:', score[0])\n",
    "print('Test accuracy:', score[1])\n",
    "\n",
    "for i in range(20):\n",
    "  index = random.randint(0, 200)\n",
    "  cv2_imshow(X_test[index] * 255)\n",
    "  test_image = X_test[index: index + 1]\n",
    "  y_pred = best_model(test_image)\n",
    "  print(\"predicted_label:\"+ getLabelByIndex(np.argmax(y_pred, axis=1)[0]))"
   ]
  },
  {
   "cell_type": "markdown",
   "metadata": {
    "id": "dg1bFyMFqJdy"
   },
   "source": [
    "# Visualization"
   ]
  },
  {
   "cell_type": "code",
   "execution_count": null,
   "metadata": {
    "id": "_3J-eZcZqKHd"
   },
   "outputs": [],
   "source": [
    "# visualizing losses and accuracy\n",
    "%matplotlib inline\n",
    "\n",
    "train_loss=hist.history['loss']\n",
    "val_loss=hist.history['val_loss']\n",
    "train_acc=hist.history['accuracy']\n",
    "val_acc=hist.history['val_accuracy']\n",
    "\n",
    "epochs = range(len(train_acc))\n",
    "\n",
    "plt.plot(epochs,train_loss,'r', label='train_loss')\n",
    "plt.plot(epochs,val_loss,'b', label='eval_loss')\n",
    "plt.title('train_loss vs val_loss')\n",
    "plt.legend()\n",
    "plt.figure()\n",
    "\n",
    "plt.plot(epochs,train_acc,'r', label='train_acc')\n",
    "plt.plot(epochs,val_acc,'b', label='eval_acc')\n",
    "plt.title('train_acc vs val_acc')\n",
    "plt.legend()\n",
    "plt.figure()\n",
    "\n",
    "#Model Save\n",
    "best_model.save_weights('model_weights.h5')\n",
    "best_model.save('model_keras.h5')"
   ]
  },
  {
   "cell_type": "markdown",
   "metadata": {
    "id": "47-yTW1gqTHO"
   },
   "source": [
    "# Confusion Matrix"
   ]
  },
  {
   "cell_type": "code",
   "execution_count": 16,
   "metadata": {
    "colab": {
     "base_uri": "https://localhost:8080/",
     "height": 441
    },
    "id": "BTretg42JRkV",
    "outputId": "a1eabab5-e17e-4be5-80b6-b6f876485319"
   },
   "outputs": [
    {
     "name": "stderr",
     "output_type": "stream",
     "text": [
      "/usr/local/lib/python3.7/dist-packages/tensorflow/python/keras/engine/sequential.py:450: UserWarning: `model.predict_classes()` is deprecated and will be removed after 2021-01-01. Please use instead:* `np.argmax(model.predict(x), axis=-1)`,   if your model does multi-class classification   (e.g. if it uses a `softmax` last-layer activation).* `(model.predict(x) > 0.5).astype(\"int32\")`,   if your model does binary classification   (e.g. if it uses a `sigmoid` last-layer activation).\n",
      "  warnings.warn('`model.predict_classes()` is deprecated and '\n"
     ]
    },
    {
     "data": {
      "image/png": "[encoded data removed]",
      "text/plain": [
       "<Figure size 360x360 with 1 Axes>"
      ]
     },
     "metadata": {
      "needs_background": "light",
      "tags": []
     },
     "output_type": "display_data"
    }
   ],
   "source": [
    "from sklearn.metrics import confusion_matrix\n",
    "results = model.predict_classes(X_test)\n",
    "cm = confusion_matrix(np.where(y_test == 1)[1], results)\n",
    "\n",
    "label_mapdisgust = ['anger','contempt','disgust','fear','happy','sadness','surprise']\n",
    "\n",
    "\n",
    "#Transform to df for easier plotting\n",
    "cm_df = pd.DataFrame(cm, index = label_mapdisgust,\n",
    "                     columns = label_mapdisgust\n",
    "                    )\n",
    "\n",
    "final_cm = cm_df\n",
    "\n",
    "plt.figure(figsize = (5,5))\n",
    "sns.heatmap(final_cm, annot = True,cmap='Greys',cbar=False,linewidth=2,fmt='d')\n",
    "plt.title('CNN Emotion Classify')\n",
    "plt.ylabel('True class')\n",
    "plt.xlabel('Prediction class')\n",
    "plt.show()"
   ]
  },
  {
   "cell_type": "markdown",
   "metadata": {
    "id": "4v06vrI3qvhd"
   },
   "source": [
    "# ROC Curve"
   ]
  },
  {
   "cell_type": "code",
   "execution_count": 17,
   "metadata": {
    "colab": {
     "base_uri": "https://localhost:8080/",
     "height": 295
    },
    "id": "7v7tYrhSqzVx",
    "outputId": "112dfa2c-8679-4425-8fe8-243938558ae7"
   },
   "outputs": [
    {
     "data": {
      "image/png": "[encoded data removed]",
      "text/plain": [
       "<Figure size 432x288 with 1 Axes>"
      ]
     },
     "metadata": {
      "needs_background": "light",
      "tags": []
     },
     "output_type": "display_data"
    }
   ],
   "source": [
    "final_label = ['anger','contempt','disgust','fear','happy','sadness','surprise']\n",
    "new_class = 7\n",
    "y_pred = model.predict(X_test)\n",
    "y_pred_ravel = y_pred.ravel()\n",
    "lw = 2\n",
    "\n",
    "fpr = dict()\n",
    "tpr = dict()\n",
    "roc_auc = dict()\n",
    "\n",
    "for i in range(new_class):\n",
    "    fpr[i], tpr[i], _ = roc_curve(y_test[:,i], y_pred[:,i])\n",
    "    roc_auc[i] = auc(fpr[i], tpr[i])\n",
    "    \n",
    "#colors = cycle(['red', 'green','black'])\n",
    "colors = cycle(['red', 'green','black','blue', 'yellow','purple','orange'])\n",
    "for i, color in zip(range(new_class), colors):\n",
    "    plt.plot(fpr[i], tpr[i], color=color, lw=lw,\n",
    "             label='ROC curve of class {0}'''.format(final_label[i]))\n",
    "    \n",
    "\n",
    "plt.plot([0, 1], [0, 1], 'k--', lw=lw)\n",
    "plt.xlim([0, 1.0])\n",
    "plt.ylim([0.0, 1.05])\n",
    "plt.xlabel('False Positive Rate')\n",
    "plt.ylabel('True Positive Rate')\n",
    "plt.title('Receiver Operating Characteristic')\n",
    "plt.legend(loc=\"lower right\")\n",
    "plt.show()"
   ]
  }
 ],
 "metadata": {
  "accelerator": "GPU",
  "colab": {
   "collapsed_sections": [],
   "machine_shape": "hm",
   "name": "CS7643.ipynb",
   "provenance": []
  },
  "kernelspec": {
   "display_name": "Python 3",
   "language": "python",
   "name": "python3"
  },
  "language_info": {
   "codemirror_mode": {
    "name": "ipython",
    "version": 3
   },
   "file_extension": ".py",
   "mimetype": "text/x-python",
   "name": "python",
   "nbconvert_exporter": "python",
   "pygments_lexer": "ipython3",
   "version": "3.9.2"
  }
 },
 "nbformat": 4,
 "nbformat_minor": 1
}
